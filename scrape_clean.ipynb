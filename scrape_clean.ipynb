{
 "cells": [
  {
   "cell_type": "code",
   "execution_count": 1,
   "metadata": {},
   "outputs": [],
   "source": [
    "# Import modules\n",
    "from bs4 import BeautifulSoup\n",
    "import requests\n",
    "from splinter import Browser\n",
    "from selenium import webdriver\n",
    "import pandas as pd\n",
    "import time\n",
    "from secret import username, password\n",
    "from sqlalchemy import create_engine\n",
    "import csv\n",
    "import numpy as np\n",
    "import html5lib"
   ]
  },
  {
   "cell_type": "markdown",
   "metadata": {},
   "source": [
    "### Mac (Irina) Connection"
   ]
  },
  {
   "cell_type": "code",
   "execution_count": 2,
   "metadata": {},
   "outputs": [
    {
     "name": "stdout",
     "output_type": "stream",
     "text": [
      "/usr/local/bin/chromedriver\r\n"
     ]
    }
   ],
   "source": [
    "# https://splinter.readthedocs.io/en/latest/drivers/chrome.html\n",
    "!which chromedriver"
   ]
  },
  {
   "cell_type": "code",
   "execution_count": 3,
   "metadata": {},
   "outputs": [],
   "source": [
    "# executable_path = {'executable_path': '/usr/local/bin/chromedriver'}\n",
    "# browser = Browser('chrome', **executable_path, headless=False)"
   ]
  },
  {
   "cell_type": "markdown",
   "metadata": {},
   "source": [
    "### Windows (Clay) Connection"
   ]
  },
  {
   "cell_type": "code",
   "execution_count": 503,
   "metadata": {},
   "outputs": [],
   "source": [
    "executable_path = {'executable_path': 'C:/Users/Clay/chromedriver.exe'}\n",
    "browser = Browser('chrome', **executable_path, headless=False)"
   ]
  },
  {
   "cell_type": "markdown",
   "metadata": {},
   "source": [
    "### Dataset 1 - Web Scrape Box Office Mojo"
   ]
  },
  {
   "cell_type": "code",
   "execution_count": 4,
   "metadata": {},
   "outputs": [
    {
     "name": "stdout",
     "output_type": "stream",
     "text": [
      "Printing first 200 rows.\n",
      "https://www.boxofficemojo.com/chart/top_lifetime_gross/?area=XWW\n",
      "Open web browser\n",
      "Read and save table\n",
      "-------------------------------------\n",
      "Printing pages 201 to 400\n",
      "https://www.boxofficemojo.com/chart/top_lifetime_gross/?area=XWW&offset=200\n",
      "Open web browser\n",
      "Read and save table\n",
      "-------------------------------------\n",
      "Printing pages 401 to 600\n",
      "https://www.boxofficemojo.com/chart/top_lifetime_gross/?area=XWW&offset=400\n",
      "Open web browser\n",
      "Read and save table\n",
      "-------------------------------------\n",
      "Printing pages 601 to 800\n",
      "https://www.boxofficemojo.com/chart/top_lifetime_gross/?area=XWW&offset=600\n",
      "Open web browser\n",
      "Read and save table\n",
      "-------------------------------------\n",
      "Printing pages 801 to 1000\n",
      "https://www.boxofficemojo.com/chart/top_lifetime_gross/?area=XWW&offset=800\n",
      "Open web browser\n",
      "Read and save table\n",
      "-------------------------------------\n",
      "Printing pages 1001 to 1200\n",
      "https://www.boxofficemojo.com/chart/top_lifetime_gross/?area=XWW&offset=1000\n",
      "Open web browser\n",
      "Read and save table\n",
      "-------------------------------------\n",
      "Printing pages 1201 to 1400\n",
      "https://www.boxofficemojo.com/chart/top_lifetime_gross/?area=XWW&offset=1200\n",
      "Open web browser\n",
      "Read and save table\n",
      "-------------------------------------\n",
      "Printing pages 1401 to 1600\n",
      "https://www.boxofficemojo.com/chart/top_lifetime_gross/?area=XWW&offset=1400\n",
      "Open web browser\n",
      "Read and save table\n",
      "-------------------------------------\n",
      "Printing pages 1601 to 1800\n",
      "https://www.boxofficemojo.com/chart/top_lifetime_gross/?area=XWW&offset=1600\n",
      "Open web browser\n",
      "Read and save table\n",
      "-------------------------------------\n",
      "Printing pages 1801 to 2000\n",
      "https://www.boxofficemojo.com/chart/top_lifetime_gross/?area=XWW&offset=1800\n",
      "Open web browser\n",
      "Read and save table\n",
      "-------------------------------------\n",
      "Printing pages 2001 to 2200\n",
      "https://www.boxofficemojo.com/chart/top_lifetime_gross/?area=XWW&offset=2000\n",
      "Open web browser\n",
      "Read and save table\n",
      "-------------------------------------\n",
      "Printing pages 2201 to 2400\n",
      "https://www.boxofficemojo.com/chart/top_lifetime_gross/?area=XWW&offset=2200\n",
      "Open web browser\n",
      "Read and save table\n",
      "-------------------------------------\n",
      "Printing pages 2401 to 2600\n",
      "https://www.boxofficemojo.com/chart/top_lifetime_gross/?area=XWW&offset=2400\n",
      "Open web browser\n",
      "Read and save table\n",
      "-------------------------------------\n",
      "Printing pages 2601 to 2800\n",
      "https://www.boxofficemojo.com/chart/top_lifetime_gross/?area=XWW&offset=2600\n",
      "Open web browser\n",
      "Read and save table\n",
      "-------------------------------------\n",
      "Printing pages 2801 to 3000\n",
      "https://www.boxofficemojo.com/chart/top_lifetime_gross/?area=XWW&offset=2800\n",
      "Open web browser\n",
      "Read and save table\n",
      "-------------------------------------\n",
      "Printing pages 3001 to 3200\n",
      "https://www.boxofficemojo.com/chart/top_lifetime_gross/?area=XWW&offset=3000\n",
      "Open web browser\n",
      "Read and save table\n",
      "-------------------------------------\n",
      "Printing pages 3201 to 3400\n",
      "https://www.boxofficemojo.com/chart/top_lifetime_gross/?area=XWW&offset=3200\n",
      "Open web browser\n",
      "Read and save table\n",
      "-------------------------------------\n",
      "Printing pages 3401 to 3600\n",
      "https://www.boxofficemojo.com/chart/top_lifetime_gross/?area=XWW&offset=3400\n",
      "Open web browser\n",
      "Read and save table\n",
      "-------------------------------------\n",
      "Printing pages 3601 to 3800\n",
      "https://www.boxofficemojo.com/chart/top_lifetime_gross/?area=XWW&offset=3600\n",
      "Open web browser\n",
      "Read and save table\n",
      "-------------------------------------\n",
      "Printing pages 3801 to 4000\n",
      "https://www.boxofficemojo.com/chart/top_lifetime_gross/?area=XWW&offset=3800\n",
      "Open web browser\n",
      "Read and save table\n",
      "-------------------------------------\n",
      "Printing pages 4001 to 4200\n",
      "https://www.boxofficemojo.com/chart/top_lifetime_gross/?area=XWW&offset=4000\n",
      "Open web browser\n",
      "Read and save table\n",
      "-------------------------------------\n",
      "Printing pages 4201 to 4400\n",
      "https://www.boxofficemojo.com/chart/top_lifetime_gross/?area=XWW&offset=4200\n",
      "Open web browser\n",
      "Read and save table\n",
      "-------------------------------------\n",
      "Printing pages 4401 to 4600\n",
      "https://www.boxofficemojo.com/chart/top_lifetime_gross/?area=XWW&offset=4400\n",
      "Open web browser\n",
      "Read and save table\n",
      "-------------------------------------\n",
      "Printing pages 4601 to 4800\n",
      "https://www.boxofficemojo.com/chart/top_lifetime_gross/?area=XWW&offset=4600\n",
      "Open web browser\n",
      "Read and save table\n",
      "-------------------------------------\n",
      "Printing pages 4801 to 5000\n",
      "https://www.boxofficemojo.com/chart/top_lifetime_gross/?area=XWW&offset=4800\n",
      "Open web browser\n",
      "Read and save table\n",
      "-------------------------------------\n",
      "Printing pages 5001 to 5200\n",
      "https://www.boxofficemojo.com/chart/top_lifetime_gross/?area=XWW&offset=5000\n",
      "Open web browser\n",
      "Read and save table\n",
      "-------------------------------------\n",
      "Printing pages 5201 to 5400\n",
      "https://www.boxofficemojo.com/chart/top_lifetime_gross/?area=XWW&offset=5200\n",
      "Open web browser\n",
      "Read and save table\n",
      "-------------------------------------\n",
      "Printing pages 5401 to 5600\n",
      "https://www.boxofficemojo.com/chart/top_lifetime_gross/?area=XWW&offset=5400\n",
      "Open web browser\n",
      "Read and save table\n",
      "-------------------------------------\n",
      "Printing pages 5601 to 5800\n",
      "https://www.boxofficemojo.com/chart/top_lifetime_gross/?area=XWW&offset=5600\n",
      "Open web browser\n",
      "Read and save table\n",
      "-------------------------------------\n",
      "Printing pages 5801 to 6000\n",
      "https://www.boxofficemojo.com/chart/top_lifetime_gross/?area=XWW&offset=5800\n",
      "Open web browser\n",
      "Read and save table\n",
      "-------------------------------------\n",
      "Printing pages 6001 to 6200\n",
      "https://www.boxofficemojo.com/chart/top_lifetime_gross/?area=XWW&offset=6000\n",
      "Open web browser\n",
      "Read and save table\n",
      "-------------------------------------\n",
      "Printing pages 6201 to 6400\n",
      "https://www.boxofficemojo.com/chart/top_lifetime_gross/?area=XWW&offset=6200\n",
      "Open web browser\n",
      "Read and save table\n",
      "-------------------------------------\n",
      "Printing pages 6401 to 6600\n",
      "https://www.boxofficemojo.com/chart/top_lifetime_gross/?area=XWW&offset=6400\n",
      "Open web browser\n",
      "Read and save table\n",
      "-------------------------------------\n",
      "Printing pages 6601 to 6800\n",
      "https://www.boxofficemojo.com/chart/top_lifetime_gross/?area=XWW&offset=6600\n",
      "Open web browser\n",
      "Read and save table\n",
      "-------------------------------------\n",
      "Printing pages 6801 to 7000\n",
      "https://www.boxofficemojo.com/chart/top_lifetime_gross/?area=XWW&offset=6800\n",
      "Open web browser\n",
      "Read and save table\n",
      "-------------------------------------\n",
      "Printing pages 7001 to 7200\n",
      "https://www.boxofficemojo.com/chart/top_lifetime_gross/?area=XWW&offset=7000\n",
      "Open web browser\n",
      "Read and save table\n",
      "-------------------------------------\n",
      "Printing pages 7201 to 7400\n",
      "https://www.boxofficemojo.com/chart/top_lifetime_gross/?area=XWW&offset=7200\n",
      "Open web browser\n",
      "Read and save table\n",
      "-------------------------------------\n",
      "Printing pages 7401 to 7600\n",
      "https://www.boxofficemojo.com/chart/top_lifetime_gross/?area=XWW&offset=7400\n",
      "Open web browser\n",
      "Read and save table\n",
      "-------------------------------------\n",
      "Printing pages 7601 to 7800\n",
      "https://www.boxofficemojo.com/chart/top_lifetime_gross/?area=XWW&offset=7600\n",
      "Open web browser\n",
      "Read and save table\n",
      "-------------------------------------\n",
      "Printing pages 7801 to 8000\n",
      "https://www.boxofficemojo.com/chart/top_lifetime_gross/?area=XWW&offset=7800\n",
      "Open web browser\n",
      "Read and save table\n",
      "-------------------------------------\n",
      "Printing pages 8001 to 8200\n",
      "https://www.boxofficemojo.com/chart/top_lifetime_gross/?area=XWW&offset=8000\n",
      "Open web browser\n",
      "Read and save table\n",
      "-------------------------------------\n",
      "Printing pages 8201 to 8400\n",
      "https://www.boxofficemojo.com/chart/top_lifetime_gross/?area=XWW&offset=8200\n",
      "Open web browser\n",
      "Read and save table\n",
      "-------------------------------------\n",
      "Printing pages 8401 to 8600\n",
      "https://www.boxofficemojo.com/chart/top_lifetime_gross/?area=XWW&offset=8400\n",
      "Open web browser\n",
      "Read and save table\n",
      "-------------------------------------\n",
      "Printing pages 8601 to 8800\n",
      "https://www.boxofficemojo.com/chart/top_lifetime_gross/?area=XWW&offset=8600\n",
      "Open web browser\n",
      "Read and save table\n",
      "-------------------------------------\n",
      "Printing pages 8801 to 9000\n",
      "https://www.boxofficemojo.com/chart/top_lifetime_gross/?area=XWW&offset=8800\n",
      "Open web browser\n",
      "Read and save table\n",
      "-------------------------------------\n",
      "Printing pages 9001 to 9200\n",
      "https://www.boxofficemojo.com/chart/top_lifetime_gross/?area=XWW&offset=9000\n",
      "Open web browser\n"
     ]
    },
    {
     "name": "stdout",
     "output_type": "stream",
     "text": [
      "Read and save table\n",
      "-------------------------------------\n",
      "Printing pages 9201 to 9400\n",
      "https://www.boxofficemojo.com/chart/top_lifetime_gross/?area=XWW&offset=9200\n",
      "Open web browser\n",
      "Read and save table\n",
      "-------------------------------------\n",
      "Printing pages 9401 to 9600\n",
      "https://www.boxofficemojo.com/chart/top_lifetime_gross/?area=XWW&offset=9400\n",
      "Open web browser\n",
      "Read and save table\n",
      "-------------------------------------\n",
      "Printing pages 9601 to 9800\n",
      "https://www.boxofficemojo.com/chart/top_lifetime_gross/?area=XWW&offset=9600\n",
      "Open web browser\n",
      "Read and save table\n",
      "-------------------------------------\n",
      "Printing pages 9801 to 10000\n",
      "https://www.boxofficemojo.com/chart/top_lifetime_gross/?area=XWW&offset=9800\n",
      "Open web browser\n",
      "Read and save table\n",
      "-------------------------------------\n"
     ]
    }
   ],
   "source": [
    "mojo_list = []\n",
    "base_url = 'https://www.boxofficemojo.com/chart/top_lifetime_gross/?area=XWW'\n",
    "page_num = 0\n",
    "table_mojo_test_df = []\n",
    "\n",
    "for i in range(0, 10000, 200):\n",
    "    if page_num < 100:\n",
    "        print(\"Printing first 200 rows.\")\n",
    "        url=(f\"{base_url}\")\n",
    "        print(url)\n",
    "##         Mac (Irina)\n",
    "#         executable_path = {'executable_path': '/usr/local/bin/chromedriver'}\n",
    "##         Windows (Clay)\n",
    "        executable_path = {'executable_path': 'C:/Users/Clay/chromedriver.exe'}\n",
    "        browser = Browser('chrome', **executable_path, headless=False)\n",
    "        browser.visit(url)\n",
    "        time.sleep(3)\n",
    "        print(\"Open web browser\")\n",
    "        tables = pd.read_html(url)\n",
    "        time.sleep(3)\n",
    "        table_mojo_df = tables[0] # Create table from the first page\n",
    "        print(\"Read and save table\")\n",
    "        browser.quit()\n",
    "        page_num += 200\n",
    "        table_mojo_test_df = table_mojo_df\n",
    "        print('-------------------------------------')\n",
    "    else:\n",
    "        print(f\"Printing pages {i+1} to {i+200}\")\n",
    "        url=(f\"{base_url}&offset={str(i)}\")\n",
    "        print(url)\n",
    "##         Mac (Irina)\n",
    "#         executable_path = {'executable_path': '/usr/local/bin/chromedriver'}\n",
    "##         Windows (Clay)\n",
    "        executable_path = {'executable_path': 'C:/Users/Clay/chromedriver.exe'}\n",
    "        browser = Browser('chrome', **executable_path, headless=False)\n",
    "        browser.visit(url)\n",
    "        time.sleep(3)\n",
    "        print(\"Open web browser\")\n",
    "        tables = pd.read_html(url)\n",
    "        time.sleep(3)\n",
    "        table_temp = tables[0]\n",
    "        print(\"Read and save table\")\n",
    "        browser.quit()\n",
    "        page_num += 200\n",
    "        table_mojo_test_df = table_mojo_test_df.append(table_temp)\n",
    "        print('-------------------------------------')"
   ]
  },
  {
   "cell_type": "code",
   "execution_count": 5,
   "metadata": {},
   "outputs": [],
   "source": [
    "# Save to the csv file\n",
    "table_mojo_test_df.to_csv(\"csv_files/Dataset1_Mojo_total_gross_revenue.csv\")"
   ]
  },
  {
   "cell_type": "code",
   "execution_count": 6,
   "metadata": {},
   "outputs": [
    {
     "data": {
      "text/html": [
       "<div>\n",
       "<style scoped>\n",
       "    .dataframe tbody tr th:only-of-type {\n",
       "        vertical-align: middle;\n",
       "    }\n",
       "\n",
       "    .dataframe tbody tr th {\n",
       "        vertical-align: top;\n",
       "    }\n",
       "\n",
       "    .dataframe thead th {\n",
       "        text-align: right;\n",
       "    }\n",
       "</style>\n",
       "<table border=\"1\" class=\"dataframe\">\n",
       "  <thead>\n",
       "    <tr style=\"text-align: right;\">\n",
       "      <th></th>\n",
       "      <th>Rank</th>\n",
       "      <th>Title</th>\n",
       "      <th>Lifetime Gross</th>\n",
       "      <th>Year</th>\n",
       "    </tr>\n",
       "  </thead>\n",
       "  <tbody>\n",
       "    <tr>\n",
       "      <th>180</th>\n",
       "      <td>9981</td>\n",
       "      <td>Inchon</td>\n",
       "      <td>$5,200,986</td>\n",
       "      <td>1982</td>\n",
       "    </tr>\n",
       "    <tr>\n",
       "      <th>181</th>\n",
       "      <td>9982</td>\n",
       "      <td>Jane Eyre</td>\n",
       "      <td>$5,200,601</td>\n",
       "      <td>1996</td>\n",
       "    </tr>\n",
       "    <tr>\n",
       "      <th>182</th>\n",
       "      <td>9983</td>\n",
       "      <td>Kelly's Heroes</td>\n",
       "      <td>$5,200,000</td>\n",
       "      <td>1970</td>\n",
       "    </tr>\n",
       "    <tr>\n",
       "      <th>183</th>\n",
       "      <td>9984</td>\n",
       "      <td>Death Bell 2: Bloody Camp</td>\n",
       "      <td>$5,198,289</td>\n",
       "      <td>2010</td>\n",
       "    </tr>\n",
       "    <tr>\n",
       "      <th>184</th>\n",
       "      <td>9985</td>\n",
       "      <td>L'antidote</td>\n",
       "      <td>$5,194,913</td>\n",
       "      <td>2005</td>\n",
       "    </tr>\n",
       "    <tr>\n",
       "      <th>185</th>\n",
       "      <td>9986</td>\n",
       "      <td>Clara's Heart</td>\n",
       "      <td>$5,194,491</td>\n",
       "      <td>1988</td>\n",
       "    </tr>\n",
       "    <tr>\n",
       "      <th>186</th>\n",
       "      <td>9987</td>\n",
       "      <td>Schuks Tshabalala's Survival Guide to South Af...</td>\n",
       "      <td>$5,194,418</td>\n",
       "      <td>2010</td>\n",
       "    </tr>\n",
       "    <tr>\n",
       "      <th>187</th>\n",
       "      <td>9988</td>\n",
       "      <td>Min søsters børn i Afrika</td>\n",
       "      <td>$5,194,312</td>\n",
       "      <td>2013</td>\n",
       "    </tr>\n",
       "    <tr>\n",
       "      <th>188</th>\n",
       "      <td>9989</td>\n",
       "      <td>Zindagi Na Milegi Dobara</td>\n",
       "      <td>$5,192,743</td>\n",
       "      <td>2011</td>\n",
       "    </tr>\n",
       "    <tr>\n",
       "      <th>189</th>\n",
       "      <td>9990</td>\n",
       "      <td>Yoko</td>\n",
       "      <td>$5,191,840</td>\n",
       "      <td>2012</td>\n",
       "    </tr>\n",
       "    <tr>\n",
       "      <th>190</th>\n",
       "      <td>9991</td>\n",
       "      <td>Nous York</td>\n",
       "      <td>$5,189,055</td>\n",
       "      <td>2012</td>\n",
       "    </tr>\n",
       "    <tr>\n",
       "      <th>191</th>\n",
       "      <td>9992</td>\n",
       "      <td>Sapphire Blue</td>\n",
       "      <td>$5,188,128</td>\n",
       "      <td>2014</td>\n",
       "    </tr>\n",
       "    <tr>\n",
       "      <th>192</th>\n",
       "      <td>9993</td>\n",
       "      <td>Oldboy</td>\n",
       "      <td>$5,186,767</td>\n",
       "      <td>2013</td>\n",
       "    </tr>\n",
       "    <tr>\n",
       "      <th>193</th>\n",
       "      <td>9994</td>\n",
       "      <td>52 Pick-Up</td>\n",
       "      <td>$5,186,646</td>\n",
       "      <td>1986</td>\n",
       "    </tr>\n",
       "    <tr>\n",
       "      <th>194</th>\n",
       "      <td>9995</td>\n",
       "      <td>Little Big Soldier</td>\n",
       "      <td>$5,186,427</td>\n",
       "      <td>2010</td>\n",
       "    </tr>\n",
       "    <tr>\n",
       "      <th>195</th>\n",
       "      <td>9996</td>\n",
       "      <td>Bank Error in Your Favour</td>\n",
       "      <td>$5,186,282</td>\n",
       "      <td>2009</td>\n",
       "    </tr>\n",
       "    <tr>\n",
       "      <th>196</th>\n",
       "      <td>9997</td>\n",
       "      <td>Sales gosses</td>\n",
       "      <td>$5,184,002</td>\n",
       "      <td>2017</td>\n",
       "    </tr>\n",
       "    <tr>\n",
       "      <th>197</th>\n",
       "      <td>9998</td>\n",
       "      <td>Vampire Sisters 2: Bats in the Belly</td>\n",
       "      <td>$5,182,195</td>\n",
       "      <td>2014</td>\n",
       "    </tr>\n",
       "    <tr>\n",
       "      <th>198</th>\n",
       "      <td>9999</td>\n",
       "      <td>Born in the Exile: Sandaime J Soul Brothers no...</td>\n",
       "      <td>$5,181,032</td>\n",
       "      <td>2016</td>\n",
       "    </tr>\n",
       "    <tr>\n",
       "      <th>199</th>\n",
       "      <td>10000</td>\n",
       "      <td>All-Round Appraiser Q: The Eyes of Mona Lisa</td>\n",
       "      <td>$5,180,116</td>\n",
       "      <td>2014</td>\n",
       "    </tr>\n",
       "  </tbody>\n",
       "</table>\n",
       "</div>"
      ],
      "text/plain": [
       "      Rank                                              Title Lifetime Gross  \\\n",
       "180   9981                                             Inchon     $5,200,986   \n",
       "181   9982                                          Jane Eyre     $5,200,601   \n",
       "182   9983                                     Kelly's Heroes     $5,200,000   \n",
       "183   9984                          Death Bell 2: Bloody Camp     $5,198,289   \n",
       "184   9985                                         L'antidote     $5,194,913   \n",
       "185   9986                                      Clara's Heart     $5,194,491   \n",
       "186   9987  Schuks Tshabalala's Survival Guide to South Af...     $5,194,418   \n",
       "187   9988                          Min søsters børn i Afrika     $5,194,312   \n",
       "188   9989                           Zindagi Na Milegi Dobara     $5,192,743   \n",
       "189   9990                                               Yoko     $5,191,840   \n",
       "190   9991                                          Nous York     $5,189,055   \n",
       "191   9992                                      Sapphire Blue     $5,188,128   \n",
       "192   9993                                             Oldboy     $5,186,767   \n",
       "193   9994                                         52 Pick-Up     $5,186,646   \n",
       "194   9995                                 Little Big Soldier     $5,186,427   \n",
       "195   9996                          Bank Error in Your Favour     $5,186,282   \n",
       "196   9997                                       Sales gosses     $5,184,002   \n",
       "197   9998               Vampire Sisters 2: Bats in the Belly     $5,182,195   \n",
       "198   9999  Born in the Exile: Sandaime J Soul Brothers no...     $5,181,032   \n",
       "199  10000       All-Round Appraiser Q: The Eyes of Mona Lisa     $5,180,116   \n",
       "\n",
       "     Year  \n",
       "180  1982  \n",
       "181  1996  \n",
       "182  1970  \n",
       "183  2010  \n",
       "184  2005  \n",
       "185  1988  \n",
       "186  2010  \n",
       "187  2013  \n",
       "188  2011  \n",
       "189  2012  \n",
       "190  2012  \n",
       "191  2014  \n",
       "192  2013  \n",
       "193  1986  \n",
       "194  2010  \n",
       "195  2009  \n",
       "196  2017  \n",
       "197  2014  \n",
       "198  2016  \n",
       "199  2014  "
      ]
     },
     "execution_count": 6,
     "metadata": {},
     "output_type": "execute_result"
    }
   ],
   "source": [
    "table_mojo_test_df.tail(20)"
   ]
  },
  {
   "cell_type": "markdown",
   "metadata": {},
   "source": [
    "### Prepare total gross revenue data set"
   ]
  },
  {
   "cell_type": "code",
   "execution_count": 377,
   "metadata": {},
   "outputs": [],
   "source": [
    "# Read the clean, combined csv file\n",
    "master_df = pd.read_csv(\"csv_files/Dataset1_Mojo_total_gross_revenue.csv\")"
   ]
  },
  {
   "cell_type": "code",
   "execution_count": 378,
   "metadata": {},
   "outputs": [
    {
     "data": {
      "text/plain": [
       "array(['War of the Buttons', 'My Love'], dtype=object)"
      ]
     },
     "execution_count": 378,
     "metadata": {},
     "output_type": "execute_result"
    }
   ],
   "source": [
    "# Getting the duplicate movie by title and year released. \n",
    "duplicated_master_df = master_df.loc[master_df.duplicated(subset=[\"Title\",\"Year\"]), \"Title\"].unique()\n",
    "duplicated_master_df"
   ]
  },
  {
   "cell_type": "code",
   "execution_count": 379,
   "metadata": {},
   "outputs": [
    {
     "data": {
      "text/html": [
       "<div>\n",
       "<style scoped>\n",
       "    .dataframe tbody tr th:only-of-type {\n",
       "        vertical-align: middle;\n",
       "    }\n",
       "\n",
       "    .dataframe tbody tr th {\n",
       "        vertical-align: top;\n",
       "    }\n",
       "\n",
       "    .dataframe thead th {\n",
       "        text-align: right;\n",
       "    }\n",
       "</style>\n",
       "<table border=\"1\" class=\"dataframe\">\n",
       "  <thead>\n",
       "    <tr style=\"text-align: right;\">\n",
       "      <th></th>\n",
       "      <th>Unnamed: 0</th>\n",
       "      <th>Rank</th>\n",
       "      <th>Title</th>\n",
       "      <th>Lifetime Gross</th>\n",
       "      <th>Year</th>\n",
       "    </tr>\n",
       "  </thead>\n",
       "  <tbody>\n",
       "    <tr>\n",
       "      <th>5984</th>\n",
       "      <td>184</td>\n",
       "      <td>5985</td>\n",
       "      <td>War of the Buttons</td>\n",
       "      <td>$15,082,409</td>\n",
       "      <td>2011</td>\n",
       "    </tr>\n",
       "    <tr>\n",
       "      <th>6646</th>\n",
       "      <td>46</td>\n",
       "      <td>6647</td>\n",
       "      <td>War of the Buttons</td>\n",
       "      <td>$12,326,773</td>\n",
       "      <td>2011</td>\n",
       "    </tr>\n",
       "  </tbody>\n",
       "</table>\n",
       "</div>"
      ],
      "text/plain": [
       "      Unnamed: 0  Rank               Title Lifetime Gross  Year\n",
       "5984         184  5985  War of the Buttons    $15,082,409  2011\n",
       "6646          46  6647  War of the Buttons    $12,326,773  2011"
      ]
     },
     "execution_count": 379,
     "metadata": {},
     "output_type": "execute_result"
    }
   ],
   "source": [
    "# Get all the data for the duplicate movie \n",
    "duplicated_master_df = master_df.loc[master_df[\"Title\"] == \"War of the Buttons\"]\n",
    "duplicated_master_df"
   ]
  },
  {
   "cell_type": "code",
   "execution_count": 380,
   "metadata": {},
   "outputs": [
    {
     "data": {
      "text/html": [
       "<div>\n",
       "<style scoped>\n",
       "    .dataframe tbody tr th:only-of-type {\n",
       "        vertical-align: middle;\n",
       "    }\n",
       "\n",
       "    .dataframe tbody tr th {\n",
       "        vertical-align: top;\n",
       "    }\n",
       "\n",
       "    .dataframe thead th {\n",
       "        text-align: right;\n",
       "    }\n",
       "</style>\n",
       "<table border=\"1\" class=\"dataframe\">\n",
       "  <thead>\n",
       "    <tr style=\"text-align: right;\">\n",
       "      <th></th>\n",
       "      <th>Unnamed: 0</th>\n",
       "      <th>Rank</th>\n",
       "      <th>Title</th>\n",
       "      <th>Lifetime Gross</th>\n",
       "      <th>Year</th>\n",
       "    </tr>\n",
       "  </thead>\n",
       "  <tbody>\n",
       "    <tr>\n",
       "      <th>5335</th>\n",
       "      <td>135</td>\n",
       "      <td>5336</td>\n",
       "      <td>My Love</td>\n",
       "      <td>$18,525,631</td>\n",
       "      <td>2007</td>\n",
       "    </tr>\n",
       "    <tr>\n",
       "      <th>8996</th>\n",
       "      <td>196</td>\n",
       "      <td>8997</td>\n",
       "      <td>My Love</td>\n",
       "      <td>$6,660,413</td>\n",
       "      <td>2007</td>\n",
       "    </tr>\n",
       "  </tbody>\n",
       "</table>\n",
       "</div>"
      ],
      "text/plain": [
       "      Unnamed: 0  Rank    Title Lifetime Gross  Year\n",
       "5335         135  5336  My Love    $18,525,631  2007\n",
       "8996         196  8997  My Love     $6,660,413  2007"
      ]
     },
     "execution_count": 380,
     "metadata": {},
     "output_type": "execute_result"
    }
   ],
   "source": [
    "# Get all the data for the duplicate movie \n",
    "duplicated_master_df = master_df.loc[master_df[\"Title\"] == \"My Love\"]\n",
    "duplicated_master_df"
   ]
  },
  {
   "cell_type": "code",
   "execution_count": 381,
   "metadata": {},
   "outputs": [
    {
     "data": {
      "text/html": [
       "<div>\n",
       "<style scoped>\n",
       "    .dataframe tbody tr th:only-of-type {\n",
       "        vertical-align: middle;\n",
       "    }\n",
       "\n",
       "    .dataframe tbody tr th {\n",
       "        vertical-align: top;\n",
       "    }\n",
       "\n",
       "    .dataframe thead th {\n",
       "        text-align: right;\n",
       "    }\n",
       "</style>\n",
       "<table border=\"1\" class=\"dataframe\">\n",
       "  <thead>\n",
       "    <tr style=\"text-align: right;\">\n",
       "      <th></th>\n",
       "      <th>index</th>\n",
       "      <th>Unnamed: 0</th>\n",
       "      <th>Rank</th>\n",
       "      <th>Title</th>\n",
       "      <th>Lifetime Gross</th>\n",
       "      <th>Year</th>\n",
       "    </tr>\n",
       "  </thead>\n",
       "  <tbody>\n",
       "    <tr>\n",
       "      <th>0</th>\n",
       "      <td>0</td>\n",
       "      <td>0</td>\n",
       "      <td>1</td>\n",
       "      <td>Avengers: Endgame</td>\n",
       "      <td>$2,797,800,564</td>\n",
       "      <td>2019</td>\n",
       "    </tr>\n",
       "    <tr>\n",
       "      <th>1</th>\n",
       "      <td>1</td>\n",
       "      <td>1</td>\n",
       "      <td>2</td>\n",
       "      <td>Avatar</td>\n",
       "      <td>$2,790,439,000</td>\n",
       "      <td>2009</td>\n",
       "    </tr>\n",
       "    <tr>\n",
       "      <th>2</th>\n",
       "      <td>2</td>\n",
       "      <td>2</td>\n",
       "      <td>3</td>\n",
       "      <td>Titanic</td>\n",
       "      <td>$2,195,169,138</td>\n",
       "      <td>1997</td>\n",
       "    </tr>\n",
       "    <tr>\n",
       "      <th>3</th>\n",
       "      <td>3</td>\n",
       "      <td>3</td>\n",
       "      <td>4</td>\n",
       "      <td>Star Wars: Episode VII - The Force Awakens</td>\n",
       "      <td>$2,068,223,624</td>\n",
       "      <td>2015</td>\n",
       "    </tr>\n",
       "    <tr>\n",
       "      <th>4</th>\n",
       "      <td>4</td>\n",
       "      <td>4</td>\n",
       "      <td>5</td>\n",
       "      <td>Avengers: Infinity War</td>\n",
       "      <td>$2,048,359,754</td>\n",
       "      <td>2018</td>\n",
       "    </tr>\n",
       "    <tr>\n",
       "      <th>...</th>\n",
       "      <td>...</td>\n",
       "      <td>...</td>\n",
       "      <td>...</td>\n",
       "      <td>...</td>\n",
       "      <td>...</td>\n",
       "      <td>...</td>\n",
       "    </tr>\n",
       "    <tr>\n",
       "      <th>9995</th>\n",
       "      <td>9995</td>\n",
       "      <td>195</td>\n",
       "      <td>9996</td>\n",
       "      <td>Bank Error in Your Favour</td>\n",
       "      <td>$5,186,282</td>\n",
       "      <td>2009</td>\n",
       "    </tr>\n",
       "    <tr>\n",
       "      <th>9996</th>\n",
       "      <td>9996</td>\n",
       "      <td>196</td>\n",
       "      <td>9997</td>\n",
       "      <td>Sales gosses</td>\n",
       "      <td>$5,184,002</td>\n",
       "      <td>2017</td>\n",
       "    </tr>\n",
       "    <tr>\n",
       "      <th>9997</th>\n",
       "      <td>9997</td>\n",
       "      <td>197</td>\n",
       "      <td>9998</td>\n",
       "      <td>Vampire Sisters 2: Bats in the Belly</td>\n",
       "      <td>$5,182,195</td>\n",
       "      <td>2014</td>\n",
       "    </tr>\n",
       "    <tr>\n",
       "      <th>9998</th>\n",
       "      <td>9998</td>\n",
       "      <td>198</td>\n",
       "      <td>9999</td>\n",
       "      <td>Born in the Exile: Sandaime J Soul Brothers no...</td>\n",
       "      <td>$5,181,032</td>\n",
       "      <td>2016</td>\n",
       "    </tr>\n",
       "    <tr>\n",
       "      <th>9999</th>\n",
       "      <td>9999</td>\n",
       "      <td>199</td>\n",
       "      <td>10000</td>\n",
       "      <td>All-Round Appraiser Q: The Eyes of Mona Lisa</td>\n",
       "      <td>$5,180,116</td>\n",
       "      <td>2014</td>\n",
       "    </tr>\n",
       "  </tbody>\n",
       "</table>\n",
       "<p>10000 rows × 6 columns</p>\n",
       "</div>"
      ],
      "text/plain": [
       "      index  Unnamed: 0   Rank  \\\n",
       "0         0           0      1   \n",
       "1         1           1      2   \n",
       "2         2           2      3   \n",
       "3         3           3      4   \n",
       "4         4           4      5   \n",
       "...     ...         ...    ...   \n",
       "9995   9995         195   9996   \n",
       "9996   9996         196   9997   \n",
       "9997   9997         197   9998   \n",
       "9998   9998         198   9999   \n",
       "9999   9999         199  10000   \n",
       "\n",
       "                                                  Title  Lifetime Gross  Year  \n",
       "0                                     Avengers: Endgame  $2,797,800,564  2019  \n",
       "1                                                Avatar  $2,790,439,000  2009  \n",
       "2                                               Titanic  $2,195,169,138  1997  \n",
       "3            Star Wars: Episode VII - The Force Awakens  $2,068,223,624  2015  \n",
       "4                                Avengers: Infinity War  $2,048,359,754  2018  \n",
       "...                                                 ...             ...   ...  \n",
       "9995                          Bank Error in Your Favour      $5,186,282  2009  \n",
       "9996                                       Sales gosses      $5,184,002  2017  \n",
       "9997               Vampire Sisters 2: Bats in the Belly      $5,182,195  2014  \n",
       "9998  Born in the Exile: Sandaime J Soul Brothers no...      $5,181,032  2016  \n",
       "9999       All-Round Appraiser Q: The Eyes of Mona Lisa      $5,180,116  2014  \n",
       "\n",
       "[10000 rows x 6 columns]"
      ]
     },
     "execution_count": 381,
     "metadata": {},
     "output_type": "execute_result"
    }
   ],
   "source": [
    "# reset index\n",
    "master_df.reset_index()"
   ]
  },
  {
   "cell_type": "code",
   "execution_count": 382,
   "metadata": {},
   "outputs": [],
   "source": [
    "# Drop row by index. Note: this index might change in if original data changes\n",
    "total_gross_info = master_df.drop(index=master_df.index[[6646, 8996]])"
   ]
  },
  {
   "cell_type": "code",
   "execution_count": 383,
   "metadata": {},
   "outputs": [
    {
     "data": {
      "text/plain": [
       "9998"
      ]
     },
     "execution_count": 383,
     "metadata": {},
     "output_type": "execute_result"
    }
   ],
   "source": [
    "len(total_gross_info)"
   ]
  },
  {
   "cell_type": "code",
   "execution_count": 384,
   "metadata": {},
   "outputs": [],
   "source": [
    "# Select columns\n",
    "total_gross_info = total_gross_info[['Rank', 'Title', 'Year', 'Lifetime Gross']]"
   ]
  },
  {
   "cell_type": "code",
   "execution_count": 385,
   "metadata": {},
   "outputs": [],
   "source": [
    "# Rename columns\n",
    "total_gross_info = total_gross_info.rename(columns={'Rank': 'rank', 'Title': 'name', \n",
    "                'Year': 'year', 'GrossNumeric': 'total_revenue_usd'})"
   ]
  },
  {
   "cell_type": "code",
   "execution_count": 386,
   "metadata": {},
   "outputs": [],
   "source": [
    "# total_gross_info.set_index('rank', inplace=True)"
   ]
  },
  {
   "cell_type": "code",
   "execution_count": 387,
   "metadata": {},
   "outputs": [
    {
     "data": {
      "text/html": [
       "<div>\n",
       "<style scoped>\n",
       "    .dataframe tbody tr th:only-of-type {\n",
       "        vertical-align: middle;\n",
       "    }\n",
       "\n",
       "    .dataframe tbody tr th {\n",
       "        vertical-align: top;\n",
       "    }\n",
       "\n",
       "    .dataframe thead th {\n",
       "        text-align: right;\n",
       "    }\n",
       "</style>\n",
       "<table border=\"1\" class=\"dataframe\">\n",
       "  <thead>\n",
       "    <tr style=\"text-align: right;\">\n",
       "      <th></th>\n",
       "      <th>rank</th>\n",
       "      <th>name</th>\n",
       "      <th>year</th>\n",
       "      <th>Lifetime Gross</th>\n",
       "    </tr>\n",
       "  </thead>\n",
       "  <tbody>\n",
       "    <tr>\n",
       "      <th>0</th>\n",
       "      <td>1</td>\n",
       "      <td>Avengers: Endgame</td>\n",
       "      <td>2019</td>\n",
       "      <td>$2,797,800,564</td>\n",
       "    </tr>\n",
       "    <tr>\n",
       "      <th>1</th>\n",
       "      <td>2</td>\n",
       "      <td>Avatar</td>\n",
       "      <td>2009</td>\n",
       "      <td>$2,790,439,000</td>\n",
       "    </tr>\n",
       "    <tr>\n",
       "      <th>2</th>\n",
       "      <td>3</td>\n",
       "      <td>Titanic</td>\n",
       "      <td>1997</td>\n",
       "      <td>$2,195,169,138</td>\n",
       "    </tr>\n",
       "    <tr>\n",
       "      <th>3</th>\n",
       "      <td>4</td>\n",
       "      <td>Star Wars: Episode VII - The Force Awakens</td>\n",
       "      <td>2015</td>\n",
       "      <td>$2,068,223,624</td>\n",
       "    </tr>\n",
       "    <tr>\n",
       "      <th>4</th>\n",
       "      <td>5</td>\n",
       "      <td>Avengers: Infinity War</td>\n",
       "      <td>2018</td>\n",
       "      <td>$2,048,359,754</td>\n",
       "    </tr>\n",
       "  </tbody>\n",
       "</table>\n",
       "</div>"
      ],
      "text/plain": [
       "   rank                                        name  year  Lifetime Gross\n",
       "0     1                           Avengers: Endgame  2019  $2,797,800,564\n",
       "1     2                                      Avatar  2009  $2,790,439,000\n",
       "2     3                                     Titanic  1997  $2,195,169,138\n",
       "3     4  Star Wars: Episode VII - The Force Awakens  2015  $2,068,223,624\n",
       "4     5                      Avengers: Infinity War  2018  $2,048,359,754"
      ]
     },
     "execution_count": 387,
     "metadata": {},
     "output_type": "execute_result"
    }
   ],
   "source": [
    "total_gross_info.head()"
   ]
  },
  {
   "cell_type": "code",
   "execution_count": 388,
   "metadata": {},
   "outputs": [],
   "source": [
    "# Change name column to lower case to easier join \n",
    "total_gross_info['name'] = total_gross_info['name'].str.capitalize()"
   ]
  },
  {
   "cell_type": "code",
   "execution_count": 389,
   "metadata": {},
   "outputs": [],
   "source": [
    "# Drop year column\n",
    "total_gross_info = total_gross_info.drop(columns='year')"
   ]
  },
  {
   "cell_type": "code",
   "execution_count": 390,
   "metadata": {},
   "outputs": [],
   "source": [
    "# Rename Lifetime Gross to total_revenue_usd\n",
    "total_gross_info = total_gross_info.rename(columns={'Lifetime Gross': 'total_revenue_usd'})"
   ]
  },
  {
   "cell_type": "code",
   "execution_count": 391,
   "metadata": {},
   "outputs": [
    {
     "data": {
      "text/html": [
       "<div>\n",
       "<style scoped>\n",
       "    .dataframe tbody tr th:only-of-type {\n",
       "        vertical-align: middle;\n",
       "    }\n",
       "\n",
       "    .dataframe tbody tr th {\n",
       "        vertical-align: top;\n",
       "    }\n",
       "\n",
       "    .dataframe thead th {\n",
       "        text-align: right;\n",
       "    }\n",
       "</style>\n",
       "<table border=\"1\" class=\"dataframe\">\n",
       "  <thead>\n",
       "    <tr style=\"text-align: right;\">\n",
       "      <th></th>\n",
       "      <th>rank</th>\n",
       "      <th>name</th>\n",
       "      <th>total_revenue_usd</th>\n",
       "    </tr>\n",
       "  </thead>\n",
       "  <tbody>\n",
       "    <tr>\n",
       "      <th>0</th>\n",
       "      <td>1</td>\n",
       "      <td>Avengers: endgame</td>\n",
       "      <td>$2,797,800,564</td>\n",
       "    </tr>\n",
       "    <tr>\n",
       "      <th>1</th>\n",
       "      <td>2</td>\n",
       "      <td>Avatar</td>\n",
       "      <td>$2,790,439,000</td>\n",
       "    </tr>\n",
       "    <tr>\n",
       "      <th>2</th>\n",
       "      <td>3</td>\n",
       "      <td>Titanic</td>\n",
       "      <td>$2,195,169,138</td>\n",
       "    </tr>\n",
       "    <tr>\n",
       "      <th>3</th>\n",
       "      <td>4</td>\n",
       "      <td>Star wars: episode vii - the force awakens</td>\n",
       "      <td>$2,068,223,624</td>\n",
       "    </tr>\n",
       "    <tr>\n",
       "      <th>4</th>\n",
       "      <td>5</td>\n",
       "      <td>Avengers: infinity war</td>\n",
       "      <td>$2,048,359,754</td>\n",
       "    </tr>\n",
       "    <tr>\n",
       "      <th>...</th>\n",
       "      <td>...</td>\n",
       "      <td>...</td>\n",
       "      <td>...</td>\n",
       "    </tr>\n",
       "    <tr>\n",
       "      <th>9995</th>\n",
       "      <td>9996</td>\n",
       "      <td>Bank error in your favour</td>\n",
       "      <td>$5,186,282</td>\n",
       "    </tr>\n",
       "    <tr>\n",
       "      <th>9996</th>\n",
       "      <td>9997</td>\n",
       "      <td>Sales gosses</td>\n",
       "      <td>$5,184,002</td>\n",
       "    </tr>\n",
       "    <tr>\n",
       "      <th>9997</th>\n",
       "      <td>9998</td>\n",
       "      <td>Vampire sisters 2: bats in the belly</td>\n",
       "      <td>$5,182,195</td>\n",
       "    </tr>\n",
       "    <tr>\n",
       "      <th>9998</th>\n",
       "      <td>9999</td>\n",
       "      <td>Born in the exile: sandaime j soul brothers no...</td>\n",
       "      <td>$5,181,032</td>\n",
       "    </tr>\n",
       "    <tr>\n",
       "      <th>9999</th>\n",
       "      <td>10000</td>\n",
       "      <td>All-round appraiser q: the eyes of mona lisa</td>\n",
       "      <td>$5,180,116</td>\n",
       "    </tr>\n",
       "  </tbody>\n",
       "</table>\n",
       "<p>9998 rows × 3 columns</p>\n",
       "</div>"
      ],
      "text/plain": [
       "       rank                                               name  \\\n",
       "0         1                                  Avengers: endgame   \n",
       "1         2                                             Avatar   \n",
       "2         3                                            Titanic   \n",
       "3         4         Star wars: episode vii - the force awakens   \n",
       "4         5                             Avengers: infinity war   \n",
       "...     ...                                                ...   \n",
       "9995   9996                          Bank error in your favour   \n",
       "9996   9997                                       Sales gosses   \n",
       "9997   9998               Vampire sisters 2: bats in the belly   \n",
       "9998   9999  Born in the exile: sandaime j soul brothers no...   \n",
       "9999  10000       All-round appraiser q: the eyes of mona lisa   \n",
       "\n",
       "     total_revenue_usd  \n",
       "0       $2,797,800,564  \n",
       "1       $2,790,439,000  \n",
       "2       $2,195,169,138  \n",
       "3       $2,068,223,624  \n",
       "4       $2,048,359,754  \n",
       "...                ...  \n",
       "9995        $5,186,282  \n",
       "9996        $5,184,002  \n",
       "9997        $5,182,195  \n",
       "9998        $5,181,032  \n",
       "9999        $5,180,116  \n",
       "\n",
       "[9998 rows x 3 columns]"
      ]
     },
     "execution_count": 391,
     "metadata": {},
     "output_type": "execute_result"
    }
   ],
   "source": [
    "total_gross_info"
   ]
  },
  {
   "cell_type": "code",
   "execution_count": 392,
   "metadata": {},
   "outputs": [
    {
     "data": {
      "text/plain": [
       "9998"
      ]
     },
     "execution_count": 392,
     "metadata": {},
     "output_type": "execute_result"
    }
   ],
   "source": [
    "# Convert total_revenue_usd to Integer\n",
    "tot_rev_usd = total_gross_info['total_revenue_usd']\n",
    "len(tot_rev_usd)"
   ]
  },
  {
   "cell_type": "code",
   "execution_count": 393,
   "metadata": {},
   "outputs": [
    {
     "name": "stdout",
     "output_type": "stream",
     "text": [
      "['2,797,800,564', '2,790,439,000', '2,195,169,138', '2,068,223,624', '2,048,359,754', '1,670,400,637', '1,656,943,394', '1,518,812,988', '1,515,048,151', '1,450,026,933']\n"
     ]
    }
   ],
   "source": [
    "list = []\n",
    "for i in tot_rev_usd:\n",
    "    list.append(i.split('$')[-1]) \n",
    "print(list[:10])"
   ]
  },
  {
   "cell_type": "code",
   "execution_count": 394,
   "metadata": {},
   "outputs": [],
   "source": [
    "split_list = []\n",
    "for i in list:\n",
    "    i = i.split(',')\n",
    "    split_list.append(''.join(i)) "
   ]
  },
  {
   "cell_type": "code",
   "execution_count": 395,
   "metadata": {},
   "outputs": [
    {
     "name": "stdout",
     "output_type": "stream",
     "text": [
      "['2797800564', '2790439000', '2195169138', '2068223624', '2048359754']\n"
     ]
    }
   ],
   "source": [
    "merged_list = []\n",
    "for i in split_list:\n",
    "    merged_list.append(''.join(i)) \n",
    "print(merged_list[:5])"
   ]
  },
  {
   "cell_type": "code",
   "execution_count": 396,
   "metadata": {},
   "outputs": [
    {
     "data": {
      "text/plain": [
       "9998"
      ]
     },
     "execution_count": 396,
     "metadata": {},
     "output_type": "execute_result"
    }
   ],
   "source": [
    "len(merged_list)"
   ]
  },
  {
   "cell_type": "code",
   "execution_count": 397,
   "metadata": {},
   "outputs": [],
   "source": [
    "# Change revenue column from string to big integer\n",
    "total_gross_info['total_revenue_usd'] = merged_list"
   ]
  },
  {
   "cell_type": "code",
   "execution_count": 398,
   "metadata": {},
   "outputs": [],
   "source": [
    "total_gross_info['total_revenue_usd'] = pd.to_numeric(total_gross_info['total_revenue_usd'])"
   ]
  },
  {
   "cell_type": "code",
   "execution_count": 399,
   "metadata": {},
   "outputs": [
    {
     "data": {
      "text/plain": [
       "rank                  int64\n",
       "name                 object\n",
       "total_revenue_usd     int64\n",
       "dtype: object"
      ]
     },
     "execution_count": 399,
     "metadata": {},
     "output_type": "execute_result"
    }
   ],
   "source": [
    "total_gross_info.dtypes"
   ]
  },
  {
   "cell_type": "code",
   "execution_count": 400,
   "metadata": {},
   "outputs": [],
   "source": [
    "total_gross_info.to_csv('csv_files/Total_Gross_Info.csv')"
   ]
  },
  {
   "cell_type": "code",
   "execution_count": 39,
   "metadata": {},
   "outputs": [],
   "source": [
    "# Connect to the local database\n",
    "connection_string = f'{username}:{password}@localhost:5432/movies_db'\n",
    "engine = create_engine(f'postgresql://{connection_string}')"
   ]
  },
  {
   "cell_type": "code",
   "execution_count": 402,
   "metadata": {},
   "outputs": [],
   "source": [
    "# Push total gross revenue table into the database\n",
    "total_gross_info.to_sql(name='total_gross_info', con=engine, if_exists='append', index=False)"
   ]
  },
  {
   "cell_type": "markdown",
   "metadata": {},
   "source": [
    "## Dataset 2 - Kaggle domestic revenue data - Load and clean¶\n",
    "#### Please download source data set - https://www.kaggle.com/danielgrijalvas/movies?select=movies.csv\n",
    "#### Save in 'csv_files/datasets_2745_4700_movies.csv'"
   ]
  },
  {
   "cell_type": "code",
   "execution_count": 403,
   "metadata": {},
   "outputs": [],
   "source": [
    "path = 'csv_files/datasets_2745_4700_movies.csv'"
   ]
  },
  {
   "cell_type": "code",
   "execution_count": 404,
   "metadata": {},
   "outputs": [],
   "source": [
    "# Convert all rows to UTF-8 type and write to a new file\n",
    "with open(path, 'r', encoding='utf-8', errors='ignore') as infile, open(path + '_UTF8.csv', 'w') as outfile:\n",
    "     inputs = csv.reader(infile)\n",
    "     output = csv.writer(outfile)\n",
    "\n",
    "     for index, row in enumerate(inputs):\n",
    "         # Create file with no header\n",
    "         if index == 0:\n",
    "             continue\n",
    "         output.writerow(row)"
   ]
  },
  {
   "cell_type": "code",
   "execution_count": 405,
   "metadata": {},
   "outputs": [],
   "source": [
    "# Read csv file into df\n",
    "domestic_df = pd.read_csv('csv_files/datasets_2745_4700_movies.csv_UTF8.csv')"
   ]
  },
  {
   "cell_type": "code",
   "execution_count": 406,
   "metadata": {},
   "outputs": [],
   "source": [
    "# Add header \n",
    "domestic_df.columns = [\"budget\",\"company\",\"country\",\"director\",\"genre\",\"gross\",\"name\",\"rating\",\"released\",\"runtime\",\"score\",\"star\",\"votes\",\"writer\",\"year\"]"
   ]
  },
  {
   "cell_type": "code",
   "execution_count": 407,
   "metadata": {},
   "outputs": [
    {
     "data": {
      "text/html": [
       "<div>\n",
       "<style scoped>\n",
       "    .dataframe tbody tr th:only-of-type {\n",
       "        vertical-align: middle;\n",
       "    }\n",
       "\n",
       "    .dataframe tbody tr th {\n",
       "        vertical-align: top;\n",
       "    }\n",
       "\n",
       "    .dataframe thead th {\n",
       "        text-align: right;\n",
       "    }\n",
       "</style>\n",
       "<table border=\"1\" class=\"dataframe\">\n",
       "  <thead>\n",
       "    <tr style=\"text-align: right;\">\n",
       "      <th></th>\n",
       "      <th>budget</th>\n",
       "      <th>company</th>\n",
       "      <th>country</th>\n",
       "      <th>director</th>\n",
       "      <th>genre</th>\n",
       "      <th>gross</th>\n",
       "      <th>name</th>\n",
       "      <th>rating</th>\n",
       "      <th>released</th>\n",
       "      <th>runtime</th>\n",
       "      <th>score</th>\n",
       "      <th>star</th>\n",
       "      <th>votes</th>\n",
       "      <th>writer</th>\n",
       "      <th>year</th>\n",
       "    </tr>\n",
       "  </thead>\n",
       "  <tbody>\n",
       "    <tr>\n",
       "      <th>0</th>\n",
       "      <td>6000000</td>\n",
       "      <td>Paramount Pictures</td>\n",
       "      <td>USA</td>\n",
       "      <td>John Hughes</td>\n",
       "      <td>Comedy</td>\n",
       "      <td>70136369</td>\n",
       "      <td>Ferris Bueller's Day Off</td>\n",
       "      <td>PG-13</td>\n",
       "      <td>6/11/86</td>\n",
       "      <td>103</td>\n",
       "      <td>7.8</td>\n",
       "      <td>Matthew Broderick</td>\n",
       "      <td>264740</td>\n",
       "      <td>John Hughes</td>\n",
       "      <td>1986</td>\n",
       "    </tr>\n",
       "    <tr>\n",
       "      <th>1</th>\n",
       "      <td>15000000</td>\n",
       "      <td>Paramount Pictures</td>\n",
       "      <td>USA</td>\n",
       "      <td>Tony Scott</td>\n",
       "      <td>Action</td>\n",
       "      <td>179800601</td>\n",
       "      <td>Top Gun</td>\n",
       "      <td>PG</td>\n",
       "      <td>5/16/86</td>\n",
       "      <td>110</td>\n",
       "      <td>6.9</td>\n",
       "      <td>Tom Cruise</td>\n",
       "      <td>236909</td>\n",
       "      <td>Jim Cash</td>\n",
       "      <td>1986</td>\n",
       "    </tr>\n",
       "  </tbody>\n",
       "</table>\n",
       "</div>"
      ],
      "text/plain": [
       "     budget             company country     director   genre      gross  \\\n",
       "0   6000000  Paramount Pictures     USA  John Hughes  Comedy   70136369   \n",
       "1  15000000  Paramount Pictures     USA   Tony Scott  Action  179800601   \n",
       "\n",
       "                       name rating released  runtime  score  \\\n",
       "0  Ferris Bueller's Day Off  PG-13  6/11/86      103    7.8   \n",
       "1                   Top Gun     PG  5/16/86      110    6.9   \n",
       "\n",
       "                star   votes       writer  year  \n",
       "0  Matthew Broderick  264740  John Hughes  1986  \n",
       "1         Tom Cruise  236909     Jim Cash  1986  "
      ]
     },
     "execution_count": 407,
     "metadata": {},
     "output_type": "execute_result"
    }
   ],
   "source": [
    "domestic_df.head(2)"
   ]
  },
  {
   "cell_type": "code",
   "execution_count": 408,
   "metadata": {},
   "outputs": [],
   "source": [
    "# Make names capitalized\n",
    "domestic_df['name'] = domestic_df['name'].str.capitalize()"
   ]
  },
  {
   "cell_type": "code",
   "execution_count": 409,
   "metadata": {},
   "outputs": [
    {
     "data": {
      "text/html": [
       "<div>\n",
       "<style scoped>\n",
       "    .dataframe tbody tr th:only-of-type {\n",
       "        vertical-align: middle;\n",
       "    }\n",
       "\n",
       "    .dataframe tbody tr th {\n",
       "        vertical-align: top;\n",
       "    }\n",
       "\n",
       "    .dataframe thead th {\n",
       "        text-align: right;\n",
       "    }\n",
       "</style>\n",
       "<table border=\"1\" class=\"dataframe\">\n",
       "  <thead>\n",
       "    <tr style=\"text-align: right;\">\n",
       "      <th></th>\n",
       "      <th>budget</th>\n",
       "      <th>company</th>\n",
       "      <th>country</th>\n",
       "      <th>director</th>\n",
       "      <th>genre</th>\n",
       "      <th>gross</th>\n",
       "      <th>name</th>\n",
       "      <th>rating</th>\n",
       "      <th>released</th>\n",
       "      <th>runtime</th>\n",
       "      <th>score</th>\n",
       "      <th>star</th>\n",
       "      <th>votes</th>\n",
       "      <th>writer</th>\n",
       "      <th>year</th>\n",
       "    </tr>\n",
       "  </thead>\n",
       "  <tbody>\n",
       "    <tr>\n",
       "      <th>0</th>\n",
       "      <td>6000000</td>\n",
       "      <td>Paramount Pictures</td>\n",
       "      <td>USA</td>\n",
       "      <td>John Hughes</td>\n",
       "      <td>Comedy</td>\n",
       "      <td>70136369</td>\n",
       "      <td>Ferris bueller's day off</td>\n",
       "      <td>PG-13</td>\n",
       "      <td>6/11/86</td>\n",
       "      <td>103</td>\n",
       "      <td>7.8</td>\n",
       "      <td>Matthew Broderick</td>\n",
       "      <td>264740</td>\n",
       "      <td>John Hughes</td>\n",
       "      <td>1986</td>\n",
       "    </tr>\n",
       "    <tr>\n",
       "      <th>1</th>\n",
       "      <td>15000000</td>\n",
       "      <td>Paramount Pictures</td>\n",
       "      <td>USA</td>\n",
       "      <td>Tony Scott</td>\n",
       "      <td>Action</td>\n",
       "      <td>179800601</td>\n",
       "      <td>Top gun</td>\n",
       "      <td>PG</td>\n",
       "      <td>5/16/86</td>\n",
       "      <td>110</td>\n",
       "      <td>6.9</td>\n",
       "      <td>Tom Cruise</td>\n",
       "      <td>236909</td>\n",
       "      <td>Jim Cash</td>\n",
       "      <td>1986</td>\n",
       "    </tr>\n",
       "  </tbody>\n",
       "</table>\n",
       "</div>"
      ],
      "text/plain": [
       "     budget             company country     director   genre      gross  \\\n",
       "0   6000000  Paramount Pictures     USA  John Hughes  Comedy   70136369   \n",
       "1  15000000  Paramount Pictures     USA   Tony Scott  Action  179800601   \n",
       "\n",
       "                       name rating released  runtime  score  \\\n",
       "0  Ferris bueller's day off  PG-13  6/11/86      103    7.8   \n",
       "1                   Top gun     PG  5/16/86      110    6.9   \n",
       "\n",
       "                star   votes       writer  year  \n",
       "0  Matthew Broderick  264740  John Hughes  1986  \n",
       "1         Tom Cruise  236909     Jim Cash  1986  "
      ]
     },
     "execution_count": 409,
     "metadata": {},
     "output_type": "execute_result"
    }
   ],
   "source": [
    "domestic_df.head(2)"
   ]
  },
  {
   "cell_type": "code",
   "execution_count": 410,
   "metadata": {
    "scrolled": true
   },
   "outputs": [
    {
     "data": {
      "text/plain": [
       "array(['Bad company', 'Hairspray', 'Fantastic four'], dtype=object)"
      ]
     },
     "execution_count": 410,
     "metadata": {},
     "output_type": "execute_result"
    }
   ],
   "source": [
    "# Getting the duplicate movie by title and company released. \n",
    "duplicated_domestic_df = domestic_df.loc[domestic_df.duplicated(subset=[\"name\",\"company\"]), \"name\"].unique()\n",
    "duplicated_domestic_df"
   ]
  },
  {
   "cell_type": "code",
   "execution_count": 411,
   "metadata": {
    "scrolled": true
   },
   "outputs": [
    {
     "data": {
      "text/plain": [
       "array([], dtype=object)"
      ]
     },
     "execution_count": 411,
     "metadata": {},
     "output_type": "execute_result"
    }
   ],
   "source": [
    "# Getting the duplicate movie by title and star released. \n",
    "duplicated_domestic_df = domestic_df.loc[domestic_df.duplicated(subset=[\"name\",\"star\"]), \"name\"].unique()\n",
    "duplicated_domestic_df"
   ]
  },
  {
   "cell_type": "code",
   "execution_count": 412,
   "metadata": {
    "scrolled": true
   },
   "outputs": [
    {
     "data": {
      "text/plain": [
       "array(['Dream lover', \"Nobody's fool\", 'Heat', 'It takes two',\n",
       "       'Rumpelstiltskin', 'Bulletproof', 'Gladiator',\n",
       "       'Where the heart is', 'Hamlet', 'The in crowd',\n",
       "       'Behind enemy lines', 'Out cold', 'Bad company', 'Crossroads',\n",
       "       'The rookie', 'The hunted', 'It runs in the family',\n",
       "       'Man of the house', 'The guardian', 'Pulse', 'Hairspray',\n",
       "       'The hitcher', 'Twilight', 'The unborn', 'Fair game',\n",
       "       'Death at a funeral', 'Morning glory', 'Trespass', 'The avengers',\n",
       "       'Les misrables', 'Project x', 'Playing for keeps', 'Promised land',\n",
       "       'Frozen', 'Hercules', 'Godzilla', 'Robocop',\n",
       "       'Teenage mutant ninja turtles', 'The gift', 'Fantastic four',\n",
       "       'No escape', 'Hot pursuit', 'Sing', 'Passengers', 'Masterminds'],\n",
       "      dtype=object)"
      ]
     },
     "execution_count": 412,
     "metadata": {},
     "output_type": "execute_result"
    }
   ],
   "source": [
    "# Getting the duplicate movie by title and country released. \n",
    "duplicated_domestic_df = domestic_df.loc[domestic_df.duplicated(subset=[\"name\",\"country\"]), \"name\"].unique()\n",
    "duplicated_domestic_df"
   ]
  },
  {
   "cell_type": "code",
   "execution_count": 413,
   "metadata": {},
   "outputs": [
    {
     "data": {
      "text/html": [
       "<div>\n",
       "<style scoped>\n",
       "    .dataframe tbody tr th:only-of-type {\n",
       "        vertical-align: middle;\n",
       "    }\n",
       "\n",
       "    .dataframe tbody tr th {\n",
       "        vertical-align: top;\n",
       "    }\n",
       "\n",
       "    .dataframe thead th {\n",
       "        text-align: right;\n",
       "    }\n",
       "</style>\n",
       "<table border=\"1\" class=\"dataframe\">\n",
       "  <thead>\n",
       "    <tr style=\"text-align: right;\">\n",
       "      <th></th>\n",
       "      <th>budget</th>\n",
       "      <th>company</th>\n",
       "      <th>country</th>\n",
       "      <th>director</th>\n",
       "      <th>genre</th>\n",
       "      <th>gross</th>\n",
       "      <th>name</th>\n",
       "      <th>rating</th>\n",
       "      <th>released</th>\n",
       "      <th>runtime</th>\n",
       "      <th>score</th>\n",
       "      <th>star</th>\n",
       "      <th>votes</th>\n",
       "      <th>writer</th>\n",
       "      <th>year</th>\n",
       "    </tr>\n",
       "  </thead>\n",
       "  <tbody>\n",
       "    <tr>\n",
       "      <th>2683</th>\n",
       "      <td>130000000</td>\n",
       "      <td>Centropolis Film Productions</td>\n",
       "      <td>USA</td>\n",
       "      <td>Roland Emmerich</td>\n",
       "      <td>Action</td>\n",
       "      <td>136314294</td>\n",
       "      <td>Godzilla</td>\n",
       "      <td>PG-13</td>\n",
       "      <td>5/20/98</td>\n",
       "      <td>139</td>\n",
       "      <td>5.3</td>\n",
       "      <td>Matthew Broderick</td>\n",
       "      <td>160038</td>\n",
       "      <td>Dean Devlin</td>\n",
       "      <td>1998</td>\n",
       "    </tr>\n",
       "    <tr>\n",
       "      <th>6207</th>\n",
       "      <td>160000000</td>\n",
       "      <td>Warner Bros.</td>\n",
       "      <td>USA</td>\n",
       "      <td>Gareth Edwards</td>\n",
       "      <td>Action</td>\n",
       "      <td>200676069</td>\n",
       "      <td>Godzilla</td>\n",
       "      <td>PG-13</td>\n",
       "      <td>5/16/14</td>\n",
       "      <td>123</td>\n",
       "      <td>6.4</td>\n",
       "      <td>Aaron Taylor-Johnson</td>\n",
       "      <td>323734</td>\n",
       "      <td>Max Borenstein</td>\n",
       "      <td>2014</td>\n",
       "    </tr>\n",
       "  </tbody>\n",
       "</table>\n",
       "</div>"
      ],
      "text/plain": [
       "         budget                       company country         director  \\\n",
       "2683  130000000  Centropolis Film Productions     USA  Roland Emmerich   \n",
       "6207  160000000                  Warner Bros.     USA   Gareth Edwards   \n",
       "\n",
       "       genre      gross      name rating released  runtime  score  \\\n",
       "2683  Action  136314294  Godzilla  PG-13  5/20/98      139    5.3   \n",
       "6207  Action  200676069  Godzilla  PG-13  5/16/14      123    6.4   \n",
       "\n",
       "                      star   votes          writer  year  \n",
       "2683     Matthew Broderick  160038     Dean Devlin  1998  \n",
       "6207  Aaron Taylor-Johnson  323734  Max Borenstein  2014  "
      ]
     },
     "execution_count": 413,
     "metadata": {},
     "output_type": "execute_result"
    }
   ],
   "source": [
    "# Check duplicated movie\n",
    "duplicated_domestic_df = domestic_df.loc[domestic_df[\"name\"] == \"Godzilla\"]\n",
    "duplicated_domestic_df"
   ]
  },
  {
   "cell_type": "code",
   "execution_count": 414,
   "metadata": {},
   "outputs": [],
   "source": [
    "# Rename gross to domestic_revenue_usd\n",
    "domestic_gross_info = domestic_df.rename(columns={'gross': 'domestic_revenue_usd'})"
   ]
  },
  {
   "cell_type": "code",
   "execution_count": 415,
   "metadata": {},
   "outputs": [],
   "source": [
    "# Rename released to release_date\n",
    "domestic_gross_info = domestic_gross_info.rename(columns={'released': 'release_date','name': 'name_domestic'})"
   ]
  },
  {
   "cell_type": "code",
   "execution_count": 416,
   "metadata": {},
   "outputs": [],
   "source": [
    "# Drop columns we do not need ('budget', 'runtime', 'score', 'votes', 'year')\n",
    "domestic_gross_info = domestic_gross_info.drop(columns=['budget', 'runtime', 'score', 'votes', 'year'])"
   ]
  },
  {
   "cell_type": "code",
   "execution_count": 417,
   "metadata": {},
   "outputs": [
    {
     "data": {
      "text/html": [
       "<div>\n",
       "<style scoped>\n",
       "    .dataframe tbody tr th:only-of-type {\n",
       "        vertical-align: middle;\n",
       "    }\n",
       "\n",
       "    .dataframe tbody tr th {\n",
       "        vertical-align: top;\n",
       "    }\n",
       "\n",
       "    .dataframe thead th {\n",
       "        text-align: right;\n",
       "    }\n",
       "</style>\n",
       "<table border=\"1\" class=\"dataframe\">\n",
       "  <thead>\n",
       "    <tr style=\"text-align: right;\">\n",
       "      <th></th>\n",
       "      <th>company</th>\n",
       "      <th>country</th>\n",
       "      <th>director</th>\n",
       "      <th>genre</th>\n",
       "      <th>domestic_revenue_usd</th>\n",
       "      <th>name_domestic</th>\n",
       "      <th>rating</th>\n",
       "      <th>release_date</th>\n",
       "      <th>star</th>\n",
       "      <th>writer</th>\n",
       "    </tr>\n",
       "  </thead>\n",
       "  <tbody>\n",
       "    <tr>\n",
       "      <th>0</th>\n",
       "      <td>Paramount Pictures</td>\n",
       "      <td>USA</td>\n",
       "      <td>John Hughes</td>\n",
       "      <td>Comedy</td>\n",
       "      <td>70136369</td>\n",
       "      <td>Ferris bueller's day off</td>\n",
       "      <td>PG-13</td>\n",
       "      <td>6/11/86</td>\n",
       "      <td>Matthew Broderick</td>\n",
       "      <td>John Hughes</td>\n",
       "    </tr>\n",
       "    <tr>\n",
       "      <th>1</th>\n",
       "      <td>Paramount Pictures</td>\n",
       "      <td>USA</td>\n",
       "      <td>Tony Scott</td>\n",
       "      <td>Action</td>\n",
       "      <td>179800601</td>\n",
       "      <td>Top gun</td>\n",
       "      <td>PG</td>\n",
       "      <td>5/16/86</td>\n",
       "      <td>Tom Cruise</td>\n",
       "      <td>Jim Cash</td>\n",
       "    </tr>\n",
       "  </tbody>\n",
       "</table>\n",
       "</div>"
      ],
      "text/plain": [
       "              company country     director   genre  domestic_revenue_usd  \\\n",
       "0  Paramount Pictures     USA  John Hughes  Comedy              70136369   \n",
       "1  Paramount Pictures     USA   Tony Scott  Action             179800601   \n",
       "\n",
       "              name_domestic rating release_date               star  \\\n",
       "0  Ferris bueller's day off  PG-13      6/11/86  Matthew Broderick   \n",
       "1                   Top gun     PG      5/16/86         Tom Cruise   \n",
       "\n",
       "        writer  \n",
       "0  John Hughes  \n",
       "1     Jim Cash  "
      ]
     },
     "execution_count": 417,
     "metadata": {},
     "output_type": "execute_result"
    }
   ],
   "source": [
    "domestic_gross_info.head(2)"
   ]
  },
  {
   "cell_type": "code",
   "execution_count": 418,
   "metadata": {},
   "outputs": [
    {
     "data": {
      "text/plain": [
       "company                 object\n",
       "country                 object\n",
       "director                object\n",
       "genre                   object\n",
       "domestic_revenue_usd     int64\n",
       "name_domestic           object\n",
       "rating                  object\n",
       "release_date            object\n",
       "star                    object\n",
       "writer                  object\n",
       "dtype: object"
      ]
     },
     "execution_count": 418,
     "metadata": {},
     "output_type": "execute_result"
    }
   ],
   "source": [
    "domestic_gross_info.dtypes"
   ]
  },
  {
   "cell_type": "code",
   "execution_count": 419,
   "metadata": {},
   "outputs": [],
   "source": [
    "# Change release_date to datetime type\n",
    "domestic_gross_info['release_date'] = pd.to_datetime(domestic_gross_info['release_date'])"
   ]
  },
  {
   "cell_type": "code",
   "execution_count": 420,
   "metadata": {},
   "outputs": [
    {
     "data": {
      "text/plain": [
       "company                         object\n",
       "country                         object\n",
       "director                        object\n",
       "genre                           object\n",
       "domestic_revenue_usd             int64\n",
       "name_domestic                   object\n",
       "rating                          object\n",
       "release_date            datetime64[ns]\n",
       "star                            object\n",
       "writer                          object\n",
       "dtype: object"
      ]
     },
     "execution_count": 420,
     "metadata": {},
     "output_type": "execute_result"
    }
   ],
   "source": [
    "domestic_gross_info.dtypes"
   ]
  },
  {
   "cell_type": "code",
   "execution_count": 421,
   "metadata": {},
   "outputs": [],
   "source": [
    "# Write to csv file\n",
    "domestic_gross_info.to_csv('csv_files/Domestic_Gross_Info.csv')"
   ]
  },
  {
   "cell_type": "code",
   "execution_count": 422,
   "metadata": {},
   "outputs": [],
   "source": [
    "# TO THIS POINT, WE HAVE CREATED TWO MASTER DATAFRAMES THAT ARE CLEAN:\n",
    "# (1) Total_Gross_Info.csv\n",
    "# (2) Domestic_Gross_Info.csv"
   ]
  },
  {
   "cell_type": "markdown",
   "metadata": {},
   "source": [
    "#### Use pandas to push data into database"
   ]
  },
  {
   "cell_type": "code",
   "execution_count": 423,
   "metadata": {},
   "outputs": [
    {
     "data": {
      "text/plain": [
       "['total_gross_info']"
      ]
     },
     "execution_count": 423,
     "metadata": {},
     "output_type": "execute_result"
    }
   ],
   "source": [
    "# Check existing tables\n",
    "engine.table_names()"
   ]
  },
  {
   "cell_type": "code",
   "execution_count": 424,
   "metadata": {},
   "outputs": [],
   "source": [
    "# Create domesic gross revenue table in the database\n",
    "domestic_gross_info.to_sql(name='domestic_gross_info', con=engine, if_exists='append', index=False)"
   ]
  },
  {
   "cell_type": "code",
   "execution_count": 425,
   "metadata": {},
   "outputs": [
    {
     "data": {
      "text/plain": [
       "['total_gross_info', 'domestic_gross_info']"
      ]
     },
     "execution_count": 425,
     "metadata": {},
     "output_type": "execute_result"
    }
   ],
   "source": [
    "engine.table_names()"
   ]
  },
  {
   "cell_type": "markdown",
   "metadata": {},
   "source": [
    "#### Confirm data has been added by querying the international table"
   ]
  },
  {
   "cell_type": "code",
   "execution_count": 426,
   "metadata": {},
   "outputs": [
    {
     "data": {
      "text/html": [
       "<div>\n",
       "<style scoped>\n",
       "    .dataframe tbody tr th:only-of-type {\n",
       "        vertical-align: middle;\n",
       "    }\n",
       "\n",
       "    .dataframe tbody tr th {\n",
       "        vertical-align: top;\n",
       "    }\n",
       "\n",
       "    .dataframe thead th {\n",
       "        text-align: right;\n",
       "    }\n",
       "</style>\n",
       "<table border=\"1\" class=\"dataframe\">\n",
       "  <thead>\n",
       "    <tr style=\"text-align: right;\">\n",
       "      <th></th>\n",
       "      <th>rank</th>\n",
       "      <th>name</th>\n",
       "      <th>total_revenue_usd</th>\n",
       "    </tr>\n",
       "  </thead>\n",
       "  <tbody>\n",
       "    <tr>\n",
       "      <th>0</th>\n",
       "      <td>1</td>\n",
       "      <td>Avengers: endgame</td>\n",
       "      <td>2797800564</td>\n",
       "    </tr>\n",
       "    <tr>\n",
       "      <th>1</th>\n",
       "      <td>2</td>\n",
       "      <td>Avatar</td>\n",
       "      <td>2790439000</td>\n",
       "    </tr>\n",
       "  </tbody>\n",
       "</table>\n",
       "</div>"
      ],
      "text/plain": [
       "   rank               name  total_revenue_usd\n",
       "0     1  Avengers: endgame         2797800564\n",
       "1     2             Avatar         2790439000"
      ]
     },
     "execution_count": 426,
     "metadata": {},
     "output_type": "execute_result"
    }
   ],
   "source": [
    "pd.read_sql_query(\"select * from total_gross_info\", con=engine).head(2)"
   ]
  },
  {
   "cell_type": "code",
   "execution_count": 427,
   "metadata": {},
   "outputs": [
    {
     "data": {
      "text/html": [
       "<div>\n",
       "<style scoped>\n",
       "    .dataframe tbody tr th:only-of-type {\n",
       "        vertical-align: middle;\n",
       "    }\n",
       "\n",
       "    .dataframe tbody tr th {\n",
       "        vertical-align: top;\n",
       "    }\n",
       "\n",
       "    .dataframe thead th {\n",
       "        text-align: right;\n",
       "    }\n",
       "</style>\n",
       "<table border=\"1\" class=\"dataframe\">\n",
       "  <thead>\n",
       "    <tr style=\"text-align: right;\">\n",
       "      <th></th>\n",
       "      <th>company</th>\n",
       "      <th>country</th>\n",
       "      <th>director</th>\n",
       "      <th>genre</th>\n",
       "      <th>domestic_revenue_usd</th>\n",
       "      <th>name_domestic</th>\n",
       "      <th>rating</th>\n",
       "      <th>release_date</th>\n",
       "      <th>star</th>\n",
       "      <th>writer</th>\n",
       "    </tr>\n",
       "  </thead>\n",
       "  <tbody>\n",
       "    <tr>\n",
       "      <th>0</th>\n",
       "      <td>Paramount Pictures</td>\n",
       "      <td>USA</td>\n",
       "      <td>John Hughes</td>\n",
       "      <td>Comedy</td>\n",
       "      <td>70136369</td>\n",
       "      <td>Ferris bueller's day off</td>\n",
       "      <td>PG-13</td>\n",
       "      <td>1986-06-11</td>\n",
       "      <td>Matthew Broderick</td>\n",
       "      <td>John Hughes</td>\n",
       "    </tr>\n",
       "    <tr>\n",
       "      <th>1</th>\n",
       "      <td>Paramount Pictures</td>\n",
       "      <td>USA</td>\n",
       "      <td>Tony Scott</td>\n",
       "      <td>Action</td>\n",
       "      <td>179800601</td>\n",
       "      <td>Top gun</td>\n",
       "      <td>PG</td>\n",
       "      <td>1986-05-16</td>\n",
       "      <td>Tom Cruise</td>\n",
       "      <td>Jim Cash</td>\n",
       "    </tr>\n",
       "  </tbody>\n",
       "</table>\n",
       "</div>"
      ],
      "text/plain": [
       "              company country     director   genre  domestic_revenue_usd  \\\n",
       "0  Paramount Pictures     USA  John Hughes  Comedy              70136369   \n",
       "1  Paramount Pictures     USA   Tony Scott  Action             179800601   \n",
       "\n",
       "              name_domestic rating release_date               star  \\\n",
       "0  Ferris bueller's day off  PG-13   1986-06-11  Matthew Broderick   \n",
       "1                   Top gun     PG   1986-05-16         Tom Cruise   \n",
       "\n",
       "        writer  \n",
       "0  John Hughes  \n",
       "1     Jim Cash  "
      ]
     },
     "execution_count": 427,
     "metadata": {},
     "output_type": "execute_result"
    }
   ],
   "source": [
    "pd.read_sql_query('select * from domestic_gross_info', con=engine).head(2)"
   ]
  },
  {
   "cell_type": "markdown",
   "metadata": {},
   "source": [
    "### Extract Movie Rating data into a separate table"
   ]
  },
  {
   "cell_type": "code",
   "execution_count": 428,
   "metadata": {},
   "outputs": [],
   "source": [
    "# Save rating into a separate table\n",
    "movie_rating = domestic_gross_info[['name_domestic','rating']]"
   ]
  },
  {
   "cell_type": "code",
   "execution_count": 429,
   "metadata": {},
   "outputs": [
    {
     "data": {
      "text/html": [
       "<div>\n",
       "<style scoped>\n",
       "    .dataframe tbody tr th:only-of-type {\n",
       "        vertical-align: middle;\n",
       "    }\n",
       "\n",
       "    .dataframe tbody tr th {\n",
       "        vertical-align: top;\n",
       "    }\n",
       "\n",
       "    .dataframe thead th {\n",
       "        text-align: right;\n",
       "    }\n",
       "</style>\n",
       "<table border=\"1\" class=\"dataframe\">\n",
       "  <thead>\n",
       "    <tr style=\"text-align: right;\">\n",
       "      <th></th>\n",
       "      <th>name_domestic</th>\n",
       "      <th>rating</th>\n",
       "    </tr>\n",
       "  </thead>\n",
       "  <tbody>\n",
       "    <tr>\n",
       "      <th>0</th>\n",
       "      <td>Ferris bueller's day off</td>\n",
       "      <td>PG-13</td>\n",
       "    </tr>\n",
       "    <tr>\n",
       "      <th>1</th>\n",
       "      <td>Top gun</td>\n",
       "      <td>PG</td>\n",
       "    </tr>\n",
       "  </tbody>\n",
       "</table>\n",
       "</div>"
      ],
      "text/plain": [
       "              name_domestic rating\n",
       "0  Ferris bueller's day off  PG-13\n",
       "1                   Top gun     PG"
      ]
     },
     "execution_count": 429,
     "metadata": {},
     "output_type": "execute_result"
    }
   ],
   "source": [
    "movie_rating.head(2)"
   ]
  },
  {
   "cell_type": "code",
   "execution_count": 430,
   "metadata": {},
   "outputs": [],
   "source": [
    "# Push rating table to sql\n",
    "movie_rating.to_sql(name='movie_rating', con=engine, if_exists='append', index=False)"
   ]
  },
  {
   "cell_type": "code",
   "execution_count": 431,
   "metadata": {},
   "outputs": [
    {
     "data": {
      "text/html": [
       "<div>\n",
       "<style scoped>\n",
       "    .dataframe tbody tr th:only-of-type {\n",
       "        vertical-align: middle;\n",
       "    }\n",
       "\n",
       "    .dataframe tbody tr th {\n",
       "        vertical-align: top;\n",
       "    }\n",
       "\n",
       "    .dataframe thead th {\n",
       "        text-align: right;\n",
       "    }\n",
       "</style>\n",
       "<table border=\"1\" class=\"dataframe\">\n",
       "  <thead>\n",
       "    <tr style=\"text-align: right;\">\n",
       "      <th></th>\n",
       "      <th>name_domestic</th>\n",
       "      <th>rating</th>\n",
       "    </tr>\n",
       "  </thead>\n",
       "  <tbody>\n",
       "    <tr>\n",
       "      <th>0</th>\n",
       "      <td>Ferris bueller's day off</td>\n",
       "      <td>PG-13</td>\n",
       "    </tr>\n",
       "    <tr>\n",
       "      <th>1</th>\n",
       "      <td>Top gun</td>\n",
       "      <td>PG</td>\n",
       "    </tr>\n",
       "    <tr>\n",
       "      <th>2</th>\n",
       "      <td>Aliens</td>\n",
       "      <td>R</td>\n",
       "    </tr>\n",
       "    <tr>\n",
       "      <th>3</th>\n",
       "      <td>Flight of the navigator</td>\n",
       "      <td>PG</td>\n",
       "    </tr>\n",
       "    <tr>\n",
       "      <th>4</th>\n",
       "      <td>Platoon</td>\n",
       "      <td>R</td>\n",
       "    </tr>\n",
       "  </tbody>\n",
       "</table>\n",
       "</div>"
      ],
      "text/plain": [
       "              name_domestic rating\n",
       "0  Ferris bueller's day off  PG-13\n",
       "1                   Top gun     PG\n",
       "2                    Aliens      R\n",
       "3   Flight of the navigator     PG\n",
       "4                   Platoon      R"
      ]
     },
     "execution_count": 431,
     "metadata": {},
     "output_type": "execute_result"
    }
   ],
   "source": [
    "# Check if written successfully\n",
    "pd.read_sql_query('select * from movie_rating', con=engine).head()"
   ]
  },
  {
   "cell_type": "code",
   "execution_count": 432,
   "metadata": {},
   "outputs": [
    {
     "data": {
      "text/html": [
       "<div>\n",
       "<style scoped>\n",
       "    .dataframe tbody tr th:only-of-type {\n",
       "        vertical-align: middle;\n",
       "    }\n",
       "\n",
       "    .dataframe tbody tr th {\n",
       "        vertical-align: top;\n",
       "    }\n",
       "\n",
       "    .dataframe thead th {\n",
       "        text-align: right;\n",
       "    }\n",
       "</style>\n",
       "<table border=\"1\" class=\"dataframe\">\n",
       "  <thead>\n",
       "    <tr style=\"text-align: right;\">\n",
       "      <th></th>\n",
       "      <th>count</th>\n",
       "    </tr>\n",
       "  </thead>\n",
       "  <tbody>\n",
       "    <tr>\n",
       "      <th>0</th>\n",
       "      <td>6819</td>\n",
       "    </tr>\n",
       "  </tbody>\n",
       "</table>\n",
       "</div>"
      ],
      "text/plain": [
       "   count\n",
       "0   6819"
      ]
     },
     "execution_count": 432,
     "metadata": {},
     "output_type": "execute_result"
    }
   ],
   "source": [
    "# Check the size\n",
    "pd.read_sql_query('select count(*) from movie_rating', con=engine).head()"
   ]
  },
  {
   "cell_type": "code",
   "execution_count": 433,
   "metadata": {},
   "outputs": [
    {
     "data": {
      "text/plain": [
       "['total_gross_info', 'domestic_gross_info', 'movie_rating']"
      ]
     },
     "execution_count": 433,
     "metadata": {},
     "output_type": "execute_result"
    }
   ],
   "source": [
    "# Check all tables in the database\n",
    "engine.table_names()"
   ]
  },
  {
   "cell_type": "markdown",
   "metadata": {},
   "source": [
    "### Extract Country data into a separate table"
   ]
  },
  {
   "cell_type": "code",
   "execution_count": 434,
   "metadata": {},
   "outputs": [],
   "source": [
    "# Save Country data into a separate table\n",
    "country = domestic_gross_info[['name_domestic','country']]"
   ]
  },
  {
   "cell_type": "code",
   "execution_count": 435,
   "metadata": {},
   "outputs": [],
   "source": [
    "# Push rating table to sql\n",
    "country.to_sql(name='country', con=engine, if_exists='append', index=False)"
   ]
  },
  {
   "cell_type": "code",
   "execution_count": 436,
   "metadata": {},
   "outputs": [
    {
     "data": {
      "text/html": [
       "<div>\n",
       "<style scoped>\n",
       "    .dataframe tbody tr th:only-of-type {\n",
       "        vertical-align: middle;\n",
       "    }\n",
       "\n",
       "    .dataframe tbody tr th {\n",
       "        vertical-align: top;\n",
       "    }\n",
       "\n",
       "    .dataframe thead th {\n",
       "        text-align: right;\n",
       "    }\n",
       "</style>\n",
       "<table border=\"1\" class=\"dataframe\">\n",
       "  <thead>\n",
       "    <tr style=\"text-align: right;\">\n",
       "      <th></th>\n",
       "      <th>name_domestic</th>\n",
       "      <th>country</th>\n",
       "    </tr>\n",
       "  </thead>\n",
       "  <tbody>\n",
       "    <tr>\n",
       "      <th>0</th>\n",
       "      <td>Ferris bueller's day off</td>\n",
       "      <td>USA</td>\n",
       "    </tr>\n",
       "    <tr>\n",
       "      <th>1</th>\n",
       "      <td>Top gun</td>\n",
       "      <td>USA</td>\n",
       "    </tr>\n",
       "    <tr>\n",
       "      <th>2</th>\n",
       "      <td>Aliens</td>\n",
       "      <td>USA</td>\n",
       "    </tr>\n",
       "    <tr>\n",
       "      <th>3</th>\n",
       "      <td>Flight of the navigator</td>\n",
       "      <td>USA</td>\n",
       "    </tr>\n",
       "    <tr>\n",
       "      <th>4</th>\n",
       "      <td>Platoon</td>\n",
       "      <td>UK</td>\n",
       "    </tr>\n",
       "  </tbody>\n",
       "</table>\n",
       "</div>"
      ],
      "text/plain": [
       "              name_domestic country\n",
       "0  Ferris bueller's day off     USA\n",
       "1                   Top gun     USA\n",
       "2                    Aliens     USA\n",
       "3   Flight of the navigator     USA\n",
       "4                   Platoon      UK"
      ]
     },
     "execution_count": 436,
     "metadata": {},
     "output_type": "execute_result"
    }
   ],
   "source": [
    "# Check if written successfully\n",
    "pd.read_sql_query('select * from country', con=engine).head()"
   ]
  },
  {
   "cell_type": "code",
   "execution_count": 437,
   "metadata": {},
   "outputs": [
    {
     "data": {
      "text/html": [
       "<div>\n",
       "<style scoped>\n",
       "    .dataframe tbody tr th:only-of-type {\n",
       "        vertical-align: middle;\n",
       "    }\n",
       "\n",
       "    .dataframe tbody tr th {\n",
       "        vertical-align: top;\n",
       "    }\n",
       "\n",
       "    .dataframe thead th {\n",
       "        text-align: right;\n",
       "    }\n",
       "</style>\n",
       "<table border=\"1\" class=\"dataframe\">\n",
       "  <thead>\n",
       "    <tr style=\"text-align: right;\">\n",
       "      <th></th>\n",
       "      <th>count</th>\n",
       "    </tr>\n",
       "  </thead>\n",
       "  <tbody>\n",
       "    <tr>\n",
       "      <th>0</th>\n",
       "      <td>6819</td>\n",
       "    </tr>\n",
       "  </tbody>\n",
       "</table>\n",
       "</div>"
      ],
      "text/plain": [
       "   count\n",
       "0   6819"
      ]
     },
     "execution_count": 437,
     "metadata": {},
     "output_type": "execute_result"
    }
   ],
   "source": [
    "# Check the size\n",
    "pd.read_sql_query('select count(*) from country', con=engine).head()"
   ]
  },
  {
   "cell_type": "code",
   "execution_count": 438,
   "metadata": {},
   "outputs": [
    {
     "data": {
      "text/plain": [
       "['total_gross_info', 'domestic_gross_info', 'movie_rating', 'country']"
      ]
     },
     "execution_count": 438,
     "metadata": {},
     "output_type": "execute_result"
    }
   ],
   "source": [
    "# Check all tables in the database\n",
    "engine.table_names()"
   ]
  },
  {
   "cell_type": "markdown",
   "metadata": {},
   "source": [
    "### Extract Star Actor data into a separate table"
   ]
  },
  {
   "cell_type": "code",
   "execution_count": 439,
   "metadata": {},
   "outputs": [],
   "source": [
    "# Save star_actor data into a separate table\n",
    "star_actor = domestic_gross_info[['name_domestic','star']]"
   ]
  },
  {
   "cell_type": "code",
   "execution_count": 440,
   "metadata": {},
   "outputs": [],
   "source": [
    "# Push rating table to sql\n",
    "star_actor.to_sql(name='star_actor', con=engine, if_exists='append', index=False)"
   ]
  },
  {
   "cell_type": "code",
   "execution_count": 441,
   "metadata": {},
   "outputs": [
    {
     "data": {
      "text/html": [
       "<div>\n",
       "<style scoped>\n",
       "    .dataframe tbody tr th:only-of-type {\n",
       "        vertical-align: middle;\n",
       "    }\n",
       "\n",
       "    .dataframe tbody tr th {\n",
       "        vertical-align: top;\n",
       "    }\n",
       "\n",
       "    .dataframe thead th {\n",
       "        text-align: right;\n",
       "    }\n",
       "</style>\n",
       "<table border=\"1\" class=\"dataframe\">\n",
       "  <thead>\n",
       "    <tr style=\"text-align: right;\">\n",
       "      <th></th>\n",
       "      <th>name_domestic</th>\n",
       "      <th>star</th>\n",
       "    </tr>\n",
       "  </thead>\n",
       "  <tbody>\n",
       "    <tr>\n",
       "      <th>0</th>\n",
       "      <td>Ferris bueller's day off</td>\n",
       "      <td>Matthew Broderick</td>\n",
       "    </tr>\n",
       "    <tr>\n",
       "      <th>1</th>\n",
       "      <td>Top gun</td>\n",
       "      <td>Tom Cruise</td>\n",
       "    </tr>\n",
       "  </tbody>\n",
       "</table>\n",
       "</div>"
      ],
      "text/plain": [
       "              name_domestic               star\n",
       "0  Ferris bueller's day off  Matthew Broderick\n",
       "1                   Top gun         Tom Cruise"
      ]
     },
     "execution_count": 441,
     "metadata": {},
     "output_type": "execute_result"
    }
   ],
   "source": [
    "# Check if written successfully\n",
    "pd.read_sql_query('select * from star_actor', con=engine).head(2)"
   ]
  },
  {
   "cell_type": "code",
   "execution_count": 442,
   "metadata": {},
   "outputs": [
    {
     "data": {
      "text/html": [
       "<div>\n",
       "<style scoped>\n",
       "    .dataframe tbody tr th:only-of-type {\n",
       "        vertical-align: middle;\n",
       "    }\n",
       "\n",
       "    .dataframe tbody tr th {\n",
       "        vertical-align: top;\n",
       "    }\n",
       "\n",
       "    .dataframe thead th {\n",
       "        text-align: right;\n",
       "    }\n",
       "</style>\n",
       "<table border=\"1\" class=\"dataframe\">\n",
       "  <thead>\n",
       "    <tr style=\"text-align: right;\">\n",
       "      <th></th>\n",
       "      <th>count</th>\n",
       "    </tr>\n",
       "  </thead>\n",
       "  <tbody>\n",
       "    <tr>\n",
       "      <th>0</th>\n",
       "      <td>6819</td>\n",
       "    </tr>\n",
       "  </tbody>\n",
       "</table>\n",
       "</div>"
      ],
      "text/plain": [
       "   count\n",
       "0   6819"
      ]
     },
     "execution_count": 442,
     "metadata": {},
     "output_type": "execute_result"
    }
   ],
   "source": [
    "# Check if written successfully\n",
    "pd.read_sql_query('select count(*) from star_actor', con=engine).head(2)"
   ]
  },
  {
   "cell_type": "code",
   "execution_count": 443,
   "metadata": {},
   "outputs": [
    {
     "data": {
      "text/plain": [
       "['total_gross_info',\n",
       " 'domestic_gross_info',\n",
       " 'movie_rating',\n",
       " 'country',\n",
       " 'star_actor']"
      ]
     },
     "execution_count": 443,
     "metadata": {},
     "output_type": "execute_result"
    }
   ],
   "source": [
    "# Check all tables in the database\n",
    "engine.table_names()"
   ]
  },
  {
   "cell_type": "markdown",
   "metadata": {},
   "source": [
    "### Extract Company data into a separate table"
   ]
  },
  {
   "cell_type": "code",
   "execution_count": 444,
   "metadata": {},
   "outputs": [],
   "source": [
    "# Save company data into a separate table\n",
    "company = domestic_gross_info[['name_domestic','company']]"
   ]
  },
  {
   "cell_type": "code",
   "execution_count": 445,
   "metadata": {},
   "outputs": [],
   "source": [
    "# Push company table to sql\n",
    "company.to_sql(name='company', con=engine, if_exists='append', index=False)"
   ]
  },
  {
   "cell_type": "code",
   "execution_count": 446,
   "metadata": {},
   "outputs": [
    {
     "data": {
      "text/html": [
       "<div>\n",
       "<style scoped>\n",
       "    .dataframe tbody tr th:only-of-type {\n",
       "        vertical-align: middle;\n",
       "    }\n",
       "\n",
       "    .dataframe tbody tr th {\n",
       "        vertical-align: top;\n",
       "    }\n",
       "\n",
       "    .dataframe thead th {\n",
       "        text-align: right;\n",
       "    }\n",
       "</style>\n",
       "<table border=\"1\" class=\"dataframe\">\n",
       "  <thead>\n",
       "    <tr style=\"text-align: right;\">\n",
       "      <th></th>\n",
       "      <th>name_domestic</th>\n",
       "      <th>company</th>\n",
       "    </tr>\n",
       "  </thead>\n",
       "  <tbody>\n",
       "    <tr>\n",
       "      <th>0</th>\n",
       "      <td>Ferris bueller's day off</td>\n",
       "      <td>Paramount Pictures</td>\n",
       "    </tr>\n",
       "    <tr>\n",
       "      <th>1</th>\n",
       "      <td>Top gun</td>\n",
       "      <td>Paramount Pictures</td>\n",
       "    </tr>\n",
       "    <tr>\n",
       "      <th>2</th>\n",
       "      <td>Aliens</td>\n",
       "      <td>Twentieth Century Fox Film Corporation</td>\n",
       "    </tr>\n",
       "    <tr>\n",
       "      <th>3</th>\n",
       "      <td>Flight of the navigator</td>\n",
       "      <td>Walt Disney Pictures</td>\n",
       "    </tr>\n",
       "    <tr>\n",
       "      <th>4</th>\n",
       "      <td>Platoon</td>\n",
       "      <td>Hemdale</td>\n",
       "    </tr>\n",
       "  </tbody>\n",
       "</table>\n",
       "</div>"
      ],
      "text/plain": [
       "              name_domestic                                 company\n",
       "0  Ferris bueller's day off                      Paramount Pictures\n",
       "1                   Top gun                      Paramount Pictures\n",
       "2                    Aliens  Twentieth Century Fox Film Corporation\n",
       "3   Flight of the navigator                    Walt Disney Pictures\n",
       "4                   Platoon                                 Hemdale"
      ]
     },
     "execution_count": 446,
     "metadata": {},
     "output_type": "execute_result"
    }
   ],
   "source": [
    "# Check if written successfully\n",
    "pd.read_sql_query('select * from company', con=engine).head()"
   ]
  },
  {
   "cell_type": "code",
   "execution_count": 447,
   "metadata": {},
   "outputs": [
    {
     "data": {
      "text/html": [
       "<div>\n",
       "<style scoped>\n",
       "    .dataframe tbody tr th:only-of-type {\n",
       "        vertical-align: middle;\n",
       "    }\n",
       "\n",
       "    .dataframe tbody tr th {\n",
       "        vertical-align: top;\n",
       "    }\n",
       "\n",
       "    .dataframe thead th {\n",
       "        text-align: right;\n",
       "    }\n",
       "</style>\n",
       "<table border=\"1\" class=\"dataframe\">\n",
       "  <thead>\n",
       "    <tr style=\"text-align: right;\">\n",
       "      <th></th>\n",
       "      <th>count</th>\n",
       "    </tr>\n",
       "  </thead>\n",
       "  <tbody>\n",
       "    <tr>\n",
       "      <th>0</th>\n",
       "      <td>6819</td>\n",
       "    </tr>\n",
       "  </tbody>\n",
       "</table>\n",
       "</div>"
      ],
      "text/plain": [
       "   count\n",
       "0   6819"
      ]
     },
     "execution_count": 447,
     "metadata": {},
     "output_type": "execute_result"
    }
   ],
   "source": [
    "# Check the size\n",
    "pd.read_sql_query('select count(*) from company', con=engine).head()"
   ]
  },
  {
   "cell_type": "code",
   "execution_count": 448,
   "metadata": {
    "scrolled": true
   },
   "outputs": [
    {
     "data": {
      "text/plain": [
       "['total_gross_info',\n",
       " 'domestic_gross_info',\n",
       " 'movie_rating',\n",
       " 'country',\n",
       " 'star_actor',\n",
       " 'company']"
      ]
     },
     "execution_count": 448,
     "metadata": {},
     "output_type": "execute_result"
    }
   ],
   "source": [
    "# Check all tables in the database\n",
    "engine.table_names()"
   ]
  },
  {
   "cell_type": "markdown",
   "metadata": {},
   "source": [
    "### Extract Movie Genre data into a separate table"
   ]
  },
  {
   "cell_type": "code",
   "execution_count": 449,
   "metadata": {},
   "outputs": [],
   "source": [
    "# Save movie genre data into a separate table\n",
    "movie_genre = domestic_gross_info[['name_domestic','genre']]"
   ]
  },
  {
   "cell_type": "code",
   "execution_count": 450,
   "metadata": {},
   "outputs": [],
   "source": [
    "# Push movie_genre table to sql\n",
    "movie_genre.to_sql(name='movie_genre', con=engine, if_exists='append', index=False)"
   ]
  },
  {
   "cell_type": "code",
   "execution_count": 451,
   "metadata": {},
   "outputs": [
    {
     "data": {
      "text/html": [
       "<div>\n",
       "<style scoped>\n",
       "    .dataframe tbody tr th:only-of-type {\n",
       "        vertical-align: middle;\n",
       "    }\n",
       "\n",
       "    .dataframe tbody tr th {\n",
       "        vertical-align: top;\n",
       "    }\n",
       "\n",
       "    .dataframe thead th {\n",
       "        text-align: right;\n",
       "    }\n",
       "</style>\n",
       "<table border=\"1\" class=\"dataframe\">\n",
       "  <thead>\n",
       "    <tr style=\"text-align: right;\">\n",
       "      <th></th>\n",
       "      <th>name_domestic</th>\n",
       "      <th>genre</th>\n",
       "    </tr>\n",
       "  </thead>\n",
       "  <tbody>\n",
       "    <tr>\n",
       "      <th>0</th>\n",
       "      <td>Ferris bueller's day off</td>\n",
       "      <td>Comedy</td>\n",
       "    </tr>\n",
       "    <tr>\n",
       "      <th>1</th>\n",
       "      <td>Top gun</td>\n",
       "      <td>Action</td>\n",
       "    </tr>\n",
       "    <tr>\n",
       "      <th>2</th>\n",
       "      <td>Aliens</td>\n",
       "      <td>Action</td>\n",
       "    </tr>\n",
       "    <tr>\n",
       "      <th>3</th>\n",
       "      <td>Flight of the navigator</td>\n",
       "      <td>Adventure</td>\n",
       "    </tr>\n",
       "    <tr>\n",
       "      <th>4</th>\n",
       "      <td>Platoon</td>\n",
       "      <td>Drama</td>\n",
       "    </tr>\n",
       "  </tbody>\n",
       "</table>\n",
       "</div>"
      ],
      "text/plain": [
       "              name_domestic      genre\n",
       "0  Ferris bueller's day off     Comedy\n",
       "1                   Top gun     Action\n",
       "2                    Aliens     Action\n",
       "3   Flight of the navigator  Adventure\n",
       "4                   Platoon      Drama"
      ]
     },
     "execution_count": 451,
     "metadata": {},
     "output_type": "execute_result"
    }
   ],
   "source": [
    "# Check if written successfully\n",
    "pd.read_sql_query('select * from movie_genre', con=engine).head()"
   ]
  },
  {
   "cell_type": "code",
   "execution_count": 452,
   "metadata": {},
   "outputs": [
    {
     "data": {
      "text/html": [
       "<div>\n",
       "<style scoped>\n",
       "    .dataframe tbody tr th:only-of-type {\n",
       "        vertical-align: middle;\n",
       "    }\n",
       "\n",
       "    .dataframe tbody tr th {\n",
       "        vertical-align: top;\n",
       "    }\n",
       "\n",
       "    .dataframe thead th {\n",
       "        text-align: right;\n",
       "    }\n",
       "</style>\n",
       "<table border=\"1\" class=\"dataframe\">\n",
       "  <thead>\n",
       "    <tr style=\"text-align: right;\">\n",
       "      <th></th>\n",
       "      <th>count</th>\n",
       "    </tr>\n",
       "  </thead>\n",
       "  <tbody>\n",
       "    <tr>\n",
       "      <th>0</th>\n",
       "      <td>6819</td>\n",
       "    </tr>\n",
       "  </tbody>\n",
       "</table>\n",
       "</div>"
      ],
      "text/plain": [
       "   count\n",
       "0   6819"
      ]
     },
     "execution_count": 452,
     "metadata": {},
     "output_type": "execute_result"
    }
   ],
   "source": [
    "# Check if written successfully\n",
    "pd.read_sql_query('select count(*) from movie_genre', con=engine).head()"
   ]
  },
  {
   "cell_type": "code",
   "execution_count": 453,
   "metadata": {
    "scrolled": false
   },
   "outputs": [
    {
     "data": {
      "text/plain": [
       "['total_gross_info',\n",
       " 'domestic_gross_info',\n",
       " 'movie_rating',\n",
       " 'country',\n",
       " 'star_actor',\n",
       " 'company',\n",
       " 'movie_genre']"
      ]
     },
     "execution_count": 453,
     "metadata": {},
     "output_type": "execute_result"
    }
   ],
   "source": [
    "# Check all tables in the database\n",
    "engine.table_names()"
   ]
  },
  {
   "cell_type": "markdown",
   "metadata": {},
   "source": [
    "### Extract Writer data into a separate table"
   ]
  },
  {
   "cell_type": "code",
   "execution_count": 454,
   "metadata": {},
   "outputs": [],
   "source": [
    "# Save Writer data into a separate table\n",
    "writer = domestic_gross_info[['name_domestic','writer']]"
   ]
  },
  {
   "cell_type": "code",
   "execution_count": 455,
   "metadata": {},
   "outputs": [],
   "source": [
    "# Push writer table to sql\n",
    "writer.to_sql(name='writer', con=engine, if_exists='append', index=False)"
   ]
  },
  {
   "cell_type": "code",
   "execution_count": 456,
   "metadata": {},
   "outputs": [
    {
     "data": {
      "text/html": [
       "<div>\n",
       "<style scoped>\n",
       "    .dataframe tbody tr th:only-of-type {\n",
       "        vertical-align: middle;\n",
       "    }\n",
       "\n",
       "    .dataframe tbody tr th {\n",
       "        vertical-align: top;\n",
       "    }\n",
       "\n",
       "    .dataframe thead th {\n",
       "        text-align: right;\n",
       "    }\n",
       "</style>\n",
       "<table border=\"1\" class=\"dataframe\">\n",
       "  <thead>\n",
       "    <tr style=\"text-align: right;\">\n",
       "      <th></th>\n",
       "      <th>name_domestic</th>\n",
       "      <th>writer</th>\n",
       "    </tr>\n",
       "  </thead>\n",
       "  <tbody>\n",
       "    <tr>\n",
       "      <th>0</th>\n",
       "      <td>Ferris bueller's day off</td>\n",
       "      <td>John Hughes</td>\n",
       "    </tr>\n",
       "    <tr>\n",
       "      <th>1</th>\n",
       "      <td>Top gun</td>\n",
       "      <td>Jim Cash</td>\n",
       "    </tr>\n",
       "    <tr>\n",
       "      <th>2</th>\n",
       "      <td>Aliens</td>\n",
       "      <td>James Cameron</td>\n",
       "    </tr>\n",
       "    <tr>\n",
       "      <th>3</th>\n",
       "      <td>Flight of the navigator</td>\n",
       "      <td>Mark H. Baker</td>\n",
       "    </tr>\n",
       "    <tr>\n",
       "      <th>4</th>\n",
       "      <td>Platoon</td>\n",
       "      <td>Oliver Stone</td>\n",
       "    </tr>\n",
       "  </tbody>\n",
       "</table>\n",
       "</div>"
      ],
      "text/plain": [
       "              name_domestic         writer\n",
       "0  Ferris bueller's day off    John Hughes\n",
       "1                   Top gun       Jim Cash\n",
       "2                    Aliens  James Cameron\n",
       "3   Flight of the navigator  Mark H. Baker\n",
       "4                   Platoon   Oliver Stone"
      ]
     },
     "execution_count": 456,
     "metadata": {},
     "output_type": "execute_result"
    }
   ],
   "source": [
    "# Check if written successfully\n",
    "pd.read_sql_query('select * from writer', con=engine).head()"
   ]
  },
  {
   "cell_type": "code",
   "execution_count": 457,
   "metadata": {},
   "outputs": [
    {
     "data": {
      "text/html": [
       "<div>\n",
       "<style scoped>\n",
       "    .dataframe tbody tr th:only-of-type {\n",
       "        vertical-align: middle;\n",
       "    }\n",
       "\n",
       "    .dataframe tbody tr th {\n",
       "        vertical-align: top;\n",
       "    }\n",
       "\n",
       "    .dataframe thead th {\n",
       "        text-align: right;\n",
       "    }\n",
       "</style>\n",
       "<table border=\"1\" class=\"dataframe\">\n",
       "  <thead>\n",
       "    <tr style=\"text-align: right;\">\n",
       "      <th></th>\n",
       "      <th>count</th>\n",
       "    </tr>\n",
       "  </thead>\n",
       "  <tbody>\n",
       "    <tr>\n",
       "      <th>0</th>\n",
       "      <td>6819</td>\n",
       "    </tr>\n",
       "  </tbody>\n",
       "</table>\n",
       "</div>"
      ],
      "text/plain": [
       "   count\n",
       "0   6819"
      ]
     },
     "execution_count": 457,
     "metadata": {},
     "output_type": "execute_result"
    }
   ],
   "source": [
    "# Check if written successfully\n",
    "pd.read_sql_query('select count(*) from writer', con=engine).head()"
   ]
  },
  {
   "cell_type": "code",
   "execution_count": 458,
   "metadata": {
    "scrolled": false
   },
   "outputs": [
    {
     "data": {
      "text/plain": [
       "['total_gross_info',\n",
       " 'domestic_gross_info',\n",
       " 'movie_rating',\n",
       " 'country',\n",
       " 'star_actor',\n",
       " 'company',\n",
       " 'movie_genre',\n",
       " 'writer']"
      ]
     },
     "execution_count": 458,
     "metadata": {},
     "output_type": "execute_result"
    }
   ],
   "source": [
    "# Check all tables in the database\n",
    "engine.table_names()"
   ]
  },
  {
   "cell_type": "markdown",
   "metadata": {},
   "source": [
    "### Extract Director data from Domestic Gross Info table "
   ]
  },
  {
   "cell_type": "code",
   "execution_count": 459,
   "metadata": {},
   "outputs": [],
   "source": [
    "# Save data into a separate table\n",
    "director_movie = domestic_gross_info[['name_domestic','director']]"
   ]
  },
  {
   "cell_type": "code",
   "execution_count": 460,
   "metadata": {},
   "outputs": [],
   "source": [
    "# Push the table to sql\n",
    "director_movie.to_sql(name='director_movie', con=engine, if_exists='append', index=False)"
   ]
  },
  {
   "cell_type": "code",
   "execution_count": 461,
   "metadata": {},
   "outputs": [
    {
     "data": {
      "text/html": [
       "<div>\n",
       "<style scoped>\n",
       "    .dataframe tbody tr th:only-of-type {\n",
       "        vertical-align: middle;\n",
       "    }\n",
       "\n",
       "    .dataframe tbody tr th {\n",
       "        vertical-align: top;\n",
       "    }\n",
       "\n",
       "    .dataframe thead th {\n",
       "        text-align: right;\n",
       "    }\n",
       "</style>\n",
       "<table border=\"1\" class=\"dataframe\">\n",
       "  <thead>\n",
       "    <tr style=\"text-align: right;\">\n",
       "      <th></th>\n",
       "      <th>name_domestic</th>\n",
       "      <th>director</th>\n",
       "    </tr>\n",
       "  </thead>\n",
       "  <tbody>\n",
       "    <tr>\n",
       "      <th>0</th>\n",
       "      <td>Ferris bueller's day off</td>\n",
       "      <td>John Hughes</td>\n",
       "    </tr>\n",
       "    <tr>\n",
       "      <th>1</th>\n",
       "      <td>Top gun</td>\n",
       "      <td>Tony Scott</td>\n",
       "    </tr>\n",
       "    <tr>\n",
       "      <th>2</th>\n",
       "      <td>Aliens</td>\n",
       "      <td>James Cameron</td>\n",
       "    </tr>\n",
       "    <tr>\n",
       "      <th>3</th>\n",
       "      <td>Flight of the navigator</td>\n",
       "      <td>Randal Kleiser</td>\n",
       "    </tr>\n",
       "    <tr>\n",
       "      <th>4</th>\n",
       "      <td>Platoon</td>\n",
       "      <td>Oliver Stone</td>\n",
       "    </tr>\n",
       "  </tbody>\n",
       "</table>\n",
       "</div>"
      ],
      "text/plain": [
       "              name_domestic        director\n",
       "0  Ferris bueller's day off     John Hughes\n",
       "1                   Top gun      Tony Scott\n",
       "2                    Aliens   James Cameron\n",
       "3   Flight of the navigator  Randal Kleiser\n",
       "4                   Platoon    Oliver Stone"
      ]
     },
     "execution_count": 461,
     "metadata": {},
     "output_type": "execute_result"
    }
   ],
   "source": [
    "# Check if written successfully\n",
    "pd.read_sql_query('select * from director_movie', con=engine).head()"
   ]
  },
  {
   "cell_type": "code",
   "execution_count": 462,
   "metadata": {},
   "outputs": [
    {
     "data": {
      "text/html": [
       "<div>\n",
       "<style scoped>\n",
       "    .dataframe tbody tr th:only-of-type {\n",
       "        vertical-align: middle;\n",
       "    }\n",
       "\n",
       "    .dataframe tbody tr th {\n",
       "        vertical-align: top;\n",
       "    }\n",
       "\n",
       "    .dataframe thead th {\n",
       "        text-align: right;\n",
       "    }\n",
       "</style>\n",
       "<table border=\"1\" class=\"dataframe\">\n",
       "  <thead>\n",
       "    <tr style=\"text-align: right;\">\n",
       "      <th></th>\n",
       "      <th>count</th>\n",
       "    </tr>\n",
       "  </thead>\n",
       "  <tbody>\n",
       "    <tr>\n",
       "      <th>0</th>\n",
       "      <td>6819</td>\n",
       "    </tr>\n",
       "  </tbody>\n",
       "</table>\n",
       "</div>"
      ],
      "text/plain": [
       "   count\n",
       "0   6819"
      ]
     },
     "execution_count": 462,
     "metadata": {},
     "output_type": "execute_result"
    }
   ],
   "source": [
    "# Check if written successfully\n",
    "pd.read_sql_query('select count(*) from director_movie', con=engine).head()"
   ]
  },
  {
   "cell_type": "code",
   "execution_count": 463,
   "metadata": {
    "scrolled": false
   },
   "outputs": [
    {
     "data": {
      "text/plain": [
       "['total_gross_info',\n",
       " 'domestic_gross_info',\n",
       " 'movie_rating',\n",
       " 'country',\n",
       " 'star_actor',\n",
       " 'company',\n",
       " 'movie_genre',\n",
       " 'writer',\n",
       " 'director_movie']"
      ]
     },
     "execution_count": 463,
     "metadata": {},
     "output_type": "execute_result"
    }
   ],
   "source": [
    "# Check all tables in the database\n",
    "engine.table_names()"
   ]
  },
  {
   "cell_type": "markdown",
   "metadata": {},
   "source": [
    "### Additional data gathering"
   ]
  },
  {
   "cell_type": "code",
   "execution_count": 4,
   "metadata": {},
   "outputs": [],
   "source": [
    "# Find director of the movie\n",
    "url = 'https://en.wikipedia.org/wiki/Avengers:_Endgame'"
   ]
  },
  {
   "cell_type": "code",
   "execution_count": 5,
   "metadata": {},
   "outputs": [],
   "source": [
    "missing_movies_list = ['Avengers:_Endgame', 'Star_Wars:_The_Force_Awakens','Avengers:_Infinity_War',\n",
    "                      'Frozen_II', 'Black_Panther_(film)', 'Star_Wars:_The_Last_Jedi', \n",
    "                      'Jurassic_World:_Fallen_Kingdom', 'Incredibles_2', 'The_Fate_of_the_Furious', \n",
    "                      'Aquaman_(film)', 'Spider-Man:_Far_From_Home', 'Captain_Marvel_(film)',\n",
    "                      'Joker_(2019_film)', 'Star_Wars:_The_Rise_of_Skywalker', 'Toy_Story_4',\n",
    "                      'Solo:_A_Star_Wars_Story', 'Despicable_Me_3', 'Jumanji:_Welcome_to_the_Jungle',\n",
    "                      'Bohemian_Rhapsody', 'Spider-Man:_Homecoming', 'The_Secret_Life_of_Pets',\n",
    "                      'Wolf_Warrior_2', 'Guardians_of_the_Galaxy_Vol._2', 'Thor:_Ragnarok',\n",
    "                      'Wonder_Woman_(2017_film)', 'Coco_(2017_film)', \n",
    "                      'Jumanji:_The_Next_Level', 'Pirates_of_the_Caribbean:_Dead_Men_Tell_No_Tales',\n",
    "                      'E.T._the_Extra-Terrestrial', 'Deadpool_2']"
   ]
  },
  {
   "cell_type": "code",
   "execution_count": 29,
   "metadata": {},
   "outputs": [
    {
     "name": "stdout",
     "output_type": "stream",
     "text": [
      "Fetching info - Avengers:_Endgame\n",
      "https://en.wikipedia.org/wiki/Avengers:_Endgame\n",
      "Open web browser\n",
      "Director - Anthony RussoJoe Russo\n",
      "Star - Robert Downey\n",
      "-------------------------------------\n",
      "Fetching info - Star_Wars:_The_Force_Awakens\n",
      "https://en.wikipedia.org/wiki/Star_Wars:_The_Force_Awakens\n",
      "Open web browser\n",
      "Director - J. J. Abrams\n",
      "Star - Harrison Ford\n",
      "-------------------------------------\n",
      "Fetching info - Avengers:_Infinity_War\n",
      "https://en.wikipedia.org/wiki/Avengers:_Infinity_War\n",
      "Open web browser\n",
      "Director - Anthony RussoJoe Russo\n",
      "Star - Robert Downey\n",
      "-------------------------------------\n",
      "Fetching info - Frozen_II\n",
      "https://en.wikipedia.org/wiki/Frozen_II\n",
      "Open web browser\n",
      "Director - Chris Buck Jennifer Lee\n",
      "Star - Kristen Bell\n",
      "-------------------------------------\n",
      "Fetching info - Black_Panther_(film)\n",
      "https://en.wikipedia.org/wiki/Black_Panther_(film)\n",
      "Open web browser\n",
      "Director - Ryan Coogler\n",
      "Star - Chadwick Boseman\n",
      "-------------------------------------\n",
      "Fetching info - Star_Wars:_The_Last_Jedi\n",
      "https://en.wikipedia.org/wiki/Star_Wars:_The_Last_Jedi\n",
      "Open web browser\n",
      "Director - Rian Johnson\n",
      "Star - Mark Hamill\n",
      "-------------------------------------\n",
      "Fetching info - Jurassic_World:_Fallen_Kingdom\n",
      "https://en.wikipedia.org/wiki/Jurassic_World:_Fallen_Kingdom\n",
      "Open web browser\n",
      "Director - J. A. Bayona\n",
      "Star - Chris Pratt\n",
      "-------------------------------------\n",
      "Fetching info - Incredibles_2\n",
      "https://en.wikipedia.org/wiki/Incredibles_2\n",
      "Open web browser\n",
      "Director - Brad Bird\n",
      "Star - Michael Giacchino\n",
      "-------------------------------------\n",
      "Fetching info - The_Fate_of_the_Furious\n",
      "https://en.wikipedia.org/wiki/The_Fate_of_the_Furious\n",
      "Open web browser\n",
      "Director - F. Gary Gray\n",
      "Star - Vin Diesel\n",
      "-------------------------------------\n",
      "Fetching info - Aquaman_(film)\n",
      "https://en.wikipedia.org/wiki/Aquaman_(film)\n",
      "Open web browser\n",
      "Director - James Wan\n",
      "Star - Aquamanby Mort\n",
      "-------------------------------------\n",
      "Fetching info - Spider-Man:_Far_From_Home\n",
      "https://en.wikipedia.org/wiki/Spider-Man:_Far_From_Home\n",
      "Open web browser\n",
      "Director - Jon Watts\n",
      "Star - Tom Holland\n",
      "-------------------------------------\n",
      "Fetching info - Captain_Marvel_(film)\n",
      "https://en.wikipedia.org/wiki/Captain_Marvel_(film)\n",
      "Open web browser\n",
      "Director - Anna BodenRyan Fleck\n",
      "Star - Captain Marvelby\n",
      "-------------------------------------\n",
      "Fetching info - Joker_(2019_film)\n",
      "https://en.wikipedia.org/wiki/Joker_(2019_film)\n",
      "Open web browser\n",
      "Director - Todd Phillips\n",
      "Star - Joaquin Phoenix\n",
      "-------------------------------------\n",
      "Fetching info - Star_Wars:_The_Rise_of_Skywalker\n",
      "https://en.wikipedia.org/wiki/Star_Wars:_The_Rise_of_Skywalker\n",
      "Open web browser\n",
      "Director - J. J. Abrams\n",
      "Star - Charactersby George\n",
      "-------------------------------------\n",
      "Fetching info - Toy_Story_4\n",
      "https://en.wikipedia.org/wiki/Toy_Story_4\n",
      "Open web browser\n",
      "Director - Josh Cooley\n",
      "Star - Tom Hanks\n",
      "-------------------------------------\n",
      "Fetching info - Solo:_A_Star_Wars_Story\n",
      "https://en.wikipedia.org/wiki/Solo:_A_Star_Wars_Story\n",
      "Open web browser\n",
      "Director - Ron Howard[a]\n",
      "Star - Alden Ehrenreich\n",
      "-------------------------------------\n",
      "Fetching info - Despicable_Me_3\n",
      "https://en.wikipedia.org/wiki/Despicable_Me_3\n",
      "Open web browser\n",
      "Director - Pierre Coffin Kyle Balda\n",
      "Star - Heitor PereiraPharrell\n",
      "-------------------------------------\n",
      "Fetching info - Jumanji:_Welcome_to_the_Jungle\n",
      "https://en.wikipedia.org/wiki/Jumanji:_Welcome_to_the_Jungle\n",
      "Open web browser\n",
      "Director - Jake Kasdan\n",
      "Star - Jumanjiby Chris\n",
      "-------------------------------------\n",
      "Fetching info - Bohemian_Rhapsody\n",
      "https://en.wikipedia.org/wiki/Bohemian_Rhapsody\n",
      "Open web browser\n",
      "Director - Single by Queen\n",
      "Star - 7-inch single\n",
      "-------------------------------------\n",
      "Fetching info - Spider-Man:_Homecoming\n",
      "https://en.wikipedia.org/wiki/Spider-Man:_Homecoming\n",
      "Open web browser\n",
      "Director - Jon Watts\n",
      "Star - Spider-Manby Stan\n",
      "-------------------------------------\n",
      "Fetching info - The_Secret_Life_of_Pets\n",
      "https://en.wikipedia.org/wiki/The_Secret_Life_of_Pets\n",
      "Open web browser\n",
      "Director - Chris Renaud\n",
      "Star - Alexandre Desplat\n",
      "-------------------------------------\n",
      "Fetching info - Wolf_Warrior_2\n",
      "https://en.wikipedia.org/wiki/Wolf_Warrior_2\n",
      "Open web browser\n",
      "Director - nan\n",
      "Star - War Wolf\n",
      "-------------------------------------\n",
      "Fetching info - Guardians_of_the_Galaxy_Vol._2\n",
      "https://en.wikipedia.org/wiki/Guardians_of_the_Galaxy_Vol._2\n",
      "Open web browser\n",
      "Director - James Gunn\n",
      "Star - Chris Pratt\n",
      "-------------------------------------\n",
      "Fetching info - Thor:_Ragnarok\n",
      "https://en.wikipedia.org/wiki/Thor:_Ragnarok\n",
      "Open web browser\n",
      "Director - Taika Waititi\n",
      "Star - Chris Hemsworth\n",
      "-------------------------------------\n",
      "Fetching info - Wonder_Woman_(2017_film)\n",
      "https://en.wikipedia.org/wiki/Wonder_Woman_(2017_film)\n",
      "Open web browser\n",
      "Director - Patty Jenkins\n",
      "Star - Wonder Womanby\n",
      "-------------------------------------\n",
      "Fetching info - Coco_(2017_film)\n",
      "https://en.wikipedia.org/wiki/Coco_(2017_film)\n",
      "Open web browser\n",
      "Director - Lee Unkrich\n",
      "Star - Anthony Gonzalez\n",
      "-------------------------------------\n",
      "Fetching info - Jumanji:_The_Next_Level\n",
      "https://en.wikipedia.org/wiki/Jumanji:_The_Next_Level\n",
      "Open web browser\n",
      "Director - Jake Kasdan\n",
      "Star - Dwayne Johnson\n",
      "-------------------------------------\n",
      "Fetching info - Pirates_of_the_Caribbean:_Dead_Men_Tell_No_Tales\n",
      "https://en.wikipedia.org/wiki/Pirates_of_the_Caribbean:_Dead_Men_Tell_No_Tales\n",
      "Open web browser\n",
      "Director - Joachim Rønning Espen Sandberg\n",
      "Star - Characters by\n",
      "-------------------------------------\n",
      "Fetching info - E.T._the_Extra-Terrestrial\n",
      "https://en.wikipedia.org/wiki/E.T._the_Extra-Terrestrial\n",
      "Open web browser\n",
      "Director - Steven Spielberg\n",
      "Star - John Williams\n",
      "-------------------------------------\n",
      "Fetching info - Deadpool_2\n",
      "https://en.wikipedia.org/wiki/Deadpool_2\n",
      "Open web browser\n",
      "Director - David Leitch\n",
      "Star - Ryan Reynolds\n",
      "-------------------------------------\n"
     ]
    }
   ],
   "source": [
    "base_url = 'https://en.wikipedia.org/wiki/'\n",
    "# missing_movies_directors = []\n",
    "# missing_movies_stars = []\n",
    "missing_info_dict = {'director': [], 'star': []}\n",
    "temp_dir = []\n",
    "temp_star = []\n",
    "movie_title = \"\"\n",
    "for i in missing_movies_list:\n",
    "    print(f\"Fetching info - {i}\")\n",
    "    url=(f\"{base_url}{str(i)}\")\n",
    "    print(url)\n",
    "    movie_title = f\"{i}\"\n",
    "#     print(f\"\")\n",
    "##         Mac (Irina)\n",
    "    executable_path = {'executable_path': '/usr/local/bin/chromedriver'}\n",
    "##         Windows (Clay)\n",
    "#     executable_path = {'executable_path': 'C:/Users/Clay/chromedriver.exe'}\n",
    "    browser = Browser('chrome', **executable_path, headless=False)\n",
    "    browser.visit(url)\n",
    "#     time.sleep(1)\n",
    "    tables = pd.read_html(url)\n",
    "#     time.sleep(1)\n",
    "    movie_df = tables[0]\n",
    "#     movie_df.to_csv(f'csv_files/{movie_title}.csv')\n",
    "    director = str(movie_df.iloc[1][1])\n",
    "    print(f\"Director - {director}\")\n",
    "    star = movie_df.iloc[5][1].split()[:2]\n",
    "    star = f\"{star[0]} {star[1]}\"\n",
    "    print(f\"Star - {star}\")\n",
    "    temp_dir.append(str(director))\n",
    "    temp_star.append(str(star))\n",
    "    browser.quit()\n",
    "    print('-------------------------------------')"
   ]
  },
  {
   "cell_type": "code",
   "execution_count": 44,
   "metadata": {},
   "outputs": [],
   "source": [
    "d = {'name_missing': missing_movies_list, 'director': temp_dir, 'star_missing': temp_star}"
   ]
  },
  {
   "cell_type": "code",
   "execution_count": 45,
   "metadata": {},
   "outputs": [
    {
     "data": {
      "text/html": [
       "<div>\n",
       "<style scoped>\n",
       "    .dataframe tbody tr th:only-of-type {\n",
       "        vertical-align: middle;\n",
       "    }\n",
       "\n",
       "    .dataframe tbody tr th {\n",
       "        vertical-align: top;\n",
       "    }\n",
       "\n",
       "    .dataframe thead th {\n",
       "        text-align: right;\n",
       "    }\n",
       "</style>\n",
       "<table border=\"1\" class=\"dataframe\">\n",
       "  <thead>\n",
       "    <tr style=\"text-align: right;\">\n",
       "      <th></th>\n",
       "      <th>name_missing</th>\n",
       "      <th>director</th>\n",
       "      <th>star_missing</th>\n",
       "    </tr>\n",
       "  </thead>\n",
       "  <tbody>\n",
       "    <tr>\n",
       "      <th>0</th>\n",
       "      <td>Avengers:_Endgame</td>\n",
       "      <td>Anthony RussoJoe Russo</td>\n",
       "      <td>Robert Downey</td>\n",
       "    </tr>\n",
       "    <tr>\n",
       "      <th>1</th>\n",
       "      <td>Star_Wars:_The_Force_Awakens</td>\n",
       "      <td>J. J. Abrams</td>\n",
       "      <td>Harrison Ford</td>\n",
       "    </tr>\n",
       "    <tr>\n",
       "      <th>2</th>\n",
       "      <td>Avengers:_Infinity_War</td>\n",
       "      <td>Anthony RussoJoe Russo</td>\n",
       "      <td>Robert Downey</td>\n",
       "    </tr>\n",
       "    <tr>\n",
       "      <th>3</th>\n",
       "      <td>Frozen_II</td>\n",
       "      <td>Chris Buck Jennifer Lee</td>\n",
       "      <td>Kristen Bell</td>\n",
       "    </tr>\n",
       "    <tr>\n",
       "      <th>4</th>\n",
       "      <td>Black_Panther_(film)</td>\n",
       "      <td>Ryan Coogler</td>\n",
       "      <td>Chadwick Boseman</td>\n",
       "    </tr>\n",
       "  </tbody>\n",
       "</table>\n",
       "</div>"
      ],
      "text/plain": [
       "                   name_missing                 director      star_missing\n",
       "0             Avengers:_Endgame   Anthony RussoJoe Russo     Robert Downey\n",
       "1  Star_Wars:_The_Force_Awakens             J. J. Abrams     Harrison Ford\n",
       "2        Avengers:_Infinity_War   Anthony RussoJoe Russo     Robert Downey\n",
       "3                     Frozen_II  Chris Buck Jennifer Lee      Kristen Bell\n",
       "4          Black_Panther_(film)             Ryan Coogler  Chadwick Boseman"
      ]
     },
     "execution_count": 45,
     "metadata": {},
     "output_type": "execute_result"
    }
   ],
   "source": [
    "df = pd.DataFrame(d)\n",
    "df.head()"
   ]
  },
  {
   "cell_type": "code",
   "execution_count": 46,
   "metadata": {},
   "outputs": [],
   "source": [
    "# Push the table to sql\n",
    "df.to_sql(name='fetched_missing', con=engine, if_exists='append', index=False)"
   ]
  },
  {
   "cell_type": "code",
   "execution_count": 47,
   "metadata": {},
   "outputs": [
    {
     "data": {
      "text/html": [
       "<div>\n",
       "<style scoped>\n",
       "    .dataframe tbody tr th:only-of-type {\n",
       "        vertical-align: middle;\n",
       "    }\n",
       "\n",
       "    .dataframe tbody tr th {\n",
       "        vertical-align: top;\n",
       "    }\n",
       "\n",
       "    .dataframe thead th {\n",
       "        text-align: right;\n",
       "    }\n",
       "</style>\n",
       "<table border=\"1\" class=\"dataframe\">\n",
       "  <thead>\n",
       "    <tr style=\"text-align: right;\">\n",
       "      <th></th>\n",
       "      <th>name_missing</th>\n",
       "      <th>director</th>\n",
       "      <th>star_missing</th>\n",
       "    </tr>\n",
       "  </thead>\n",
       "  <tbody>\n",
       "    <tr>\n",
       "      <th>0</th>\n",
       "      <td>Avengers:_Endgame</td>\n",
       "      <td>Anthony RussoJoe Russo</td>\n",
       "      <td>Robert Downey</td>\n",
       "    </tr>\n",
       "    <tr>\n",
       "      <th>1</th>\n",
       "      <td>Star_Wars:_The_Force_Awakens</td>\n",
       "      <td>J. J. Abrams</td>\n",
       "      <td>Harrison Ford</td>\n",
       "    </tr>\n",
       "    <tr>\n",
       "      <th>2</th>\n",
       "      <td>Avengers:_Infinity_War</td>\n",
       "      <td>Anthony RussoJoe Russo</td>\n",
       "      <td>Robert Downey</td>\n",
       "    </tr>\n",
       "    <tr>\n",
       "      <th>3</th>\n",
       "      <td>Frozen_II</td>\n",
       "      <td>Chris Buck Jennifer Lee</td>\n",
       "      <td>Kristen Bell</td>\n",
       "    </tr>\n",
       "    <tr>\n",
       "      <th>4</th>\n",
       "      <td>Black_Panther_(film)</td>\n",
       "      <td>Ryan Coogler</td>\n",
       "      <td>Chadwick Boseman</td>\n",
       "    </tr>\n",
       "  </tbody>\n",
       "</table>\n",
       "</div>"
      ],
      "text/plain": [
       "                   name_missing                 director      star_missing\n",
       "0             Avengers:_Endgame   Anthony RussoJoe Russo     Robert Downey\n",
       "1  Star_Wars:_The_Force_Awakens             J. J. Abrams     Harrison Ford\n",
       "2        Avengers:_Infinity_War   Anthony RussoJoe Russo     Robert Downey\n",
       "3                     Frozen_II  Chris Buck Jennifer Lee      Kristen Bell\n",
       "4          Black_Panther_(film)             Ryan Coogler  Chadwick Boseman"
      ]
     },
     "execution_count": 47,
     "metadata": {},
     "output_type": "execute_result"
    }
   ],
   "source": [
    "# Check if written successfully\n",
    "pd.read_sql_query('select * from fetched_missing', con=engine).head()"
   ]
  },
  {
   "cell_type": "code",
   "execution_count": null,
   "metadata": {},
   "outputs": [],
   "source": []
  }
 ],
 "metadata": {
  "kernelspec": {
   "display_name": "Python 3.8.2 64-bit ('PythonData': virtualenv)",
   "language": "python",
   "name": "python38264bitpythondatavirtualenva6ed9450beb7421c92e17db9f8dc29a3"
  },
  "language_info": {
   "codemirror_mode": {
    "name": "ipython",
    "version": 3
   },
   "file_extension": ".py",
   "mimetype": "text/x-python",
   "name": "python",
   "nbconvert_exporter": "python",
   "pygments_lexer": "ipython3",
   "version": "3.8.2"
  }
 },
 "nbformat": 4,
 "nbformat_minor": 4
}
